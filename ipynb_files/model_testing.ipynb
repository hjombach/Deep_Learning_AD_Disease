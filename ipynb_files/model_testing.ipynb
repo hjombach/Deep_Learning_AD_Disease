{
 "cells": [
  {
   "cell_type": "code",
   "execution_count": 1,
   "metadata": {},
   "outputs": [
    {
     "name": "stderr",
     "output_type": "stream",
     "text": [
      "\u001b[34m\u001b[1mwandb\u001b[0m: \u001b[33mWARNING\u001b[0m W&B installed but not logged in.  Run `wandb login` or set the WANDB_API_KEY env variable.\n",
      "\u001b[34m\u001b[1mwandb\u001b[0m: \u001b[33mWARNING\u001b[0m W&B installed but not logged in.  Run `wandb login` or set the WANDB_API_KEY env variable.\n",
      "Skipped loading modules with pytorch-geometric dependency, missing a dependency. No module named 'torch_geometric'\n",
      "Skipped loading modules with pytorch-geometric dependency, missing a dependency. cannot import name 'DMPNN' from 'deepchem.models.torch_models' (/home/paperspace/.local/lib/python3.9/site-packages/deepchem/models/torch_models/__init__.py)\n",
      "Skipped loading modules with pytorch-lightning dependency, missing a dependency. No module named 'pytorch_lightning'\n",
      "Skipped loading some Jax models, missing a dependency. No module named 'haiku'\n"
     ]
    }
   ],
   "source": [
    "\n",
    "import sys\n",
    "sys.path.append('/home/paperspace/Desktop/DL_Project/py_files')\n",
    "\n",
    "import data_preparation\n",
    "import model_evaluation\n",
    "import deepchem as dc\n",
    "from deepchem import models\n",
    "from deepchem.models import GraphConvModel\n",
    "import matplotlib.pyplot as plt\n",
    "from matplotlib import ticker\n",
    "from openpyxl import Workbook\n",
    "from functools import partial\n",
    "import os\n",
    "import pandas as pd\n",
    "import pickle\n",
    "import numpy as np\n",
    "from datetime import datetime\n",
    "import torch\n",
    "import time\n",
    "from pytz import timezone\n",
    "import random\n",
    "from sklearn.metrics import log_loss\n",
    "import json\n",
    "import warnings\n",
    "warnings.filterwarnings('ignore')\n"
   ]
  },
  {
   "cell_type": "code",
   "execution_count": null,
   "metadata": {},
   "outputs": [],
   "source": []
  },
  {
   "cell_type": "code",
   "execution_count": 2,
   "metadata": {},
   "outputs": [],
   "source": [
    "def dc_metrics() -> list:\n",
    "    '''\n",
    "    adfdf\n",
    "    '''\n",
    "    # metrics to log throughout training\n",
    "    m1 = dc.metrics.Metric(dc.metrics.roc_auc_score)\n",
    "    m2 = dc.metrics.Metric(dc.metrics.accuracy_score)\n",
    "    m3 = dc.metrics.Metric(dc.metrics.balanced_accuracy_score)\n",
    "\n",
    "    return [m1, m2, m3]"
   ]
  },
  {
   "cell_type": "code",
   "execution_count": 3,
   "metadata": {},
   "outputs": [],
   "source": [
    "def define_parameters() -> dict:\n",
    "    \"\"\"\n",
    "    Based on the specified choices, randomly select the parameters for the current model iteration.\n",
    "    \n",
    "    Returns:\n",
    "    dictionary with keys representing the parameter id and the values as the parameter\n",
    "    \"\"\"\n",
    "    graph_conv_layers_options = [\n",
    "                                [64, 64]\n",
    "                                ]\n",
    "\n",
    "    batchnorm_options = [True]\n",
    "    dropout_options = [0]\n",
    "    dense_layer_size_options = [128]\n",
    "    # dense_layer_size_options=[128]\n",
    "    batch_size_options = [500]\n",
    "    epoch_list = [10]\n",
    "\n",
    "    parameters={}\n",
    "\n",
    "    parameters['probability_threshold']=0.2\n",
    "    parameters['batch_size']=random.choice(batch_size_options)\n",
    "    parameters['graph_conv_layers']=random.choice(graph_conv_layers_options)\n",
    "    parameters['batchnorm']=random.choice(batchnorm_options)\n",
    "    parameters['dropout']=random.choice(dropout_options)\n",
    "    parameters['dense_layer_size']=random.choice(dense_layer_size_options)\n",
    "    parameters['epochs']=20\n",
    "\n",
    "    return parameters"
   ]
  },
  {
   "cell_type": "code",
   "execution_count": 5,
   "metadata": {},
   "outputs": [],
   "source": [
    "def define_final_parameters(target: str) -> dict:\n",
    "    \"\"\"\n",
    "    Based on the specified target, load the optimal architecture.\n",
    "    \"\"\"\n",
    "    with open('/home/paperspace/Desktop/DL_Project/data/final_model_params.json', 'r') as f:\n",
    "        model_params=json.load(f)\n",
    "\n",
    "    target_specific_params=model_params[target]\n",
    "\n",
    "    return target_specific_params"
   ]
  },
  {
   "cell_type": "code",
   "execution_count": 52,
   "metadata": {},
   "outputs": [
    {
     "name": "stdout",
     "output_type": "stream",
     "text": [
      "1,589 compounds inhibit APP\n",
      "1,024 compounds inhibit Tau\n"
     ]
    },
    {
     "data": {
      "text/html": [
       "<div>\n",
       "<style scoped>\n",
       "    .dataframe tbody tr th:only-of-type {\n",
       "        vertical-align: middle;\n",
       "    }\n",
       "\n",
       "    .dataframe tbody tr th {\n",
       "        vertical-align: top;\n",
       "    }\n",
       "\n",
       "    .dataframe thead th {\n",
       "        text-align: right;\n",
       "    }\n",
       "</style>\n",
       "<table border=\"1\" class=\"dataframe\">\n",
       "  <thead>\n",
       "    <tr style=\"text-align: right;\">\n",
       "      <th></th>\n",
       "      <th>pubchem_cid</th>\n",
       "      <th>smiles</th>\n",
       "      <th>tau_inhibitor</th>\n",
       "      <th>app_inhibitor</th>\n",
       "      <th>inchi</th>\n",
       "      <th>inchikey</th>\n",
       "      <th>cmpdname</th>\n",
       "      <th>isosmiles</th>\n",
       "      <th>cmpdsynonym</th>\n",
       "      <th>mw</th>\n",
       "      <th>...</th>\n",
       "      <th>complexity</th>\n",
       "      <th>xlogp</th>\n",
       "      <th>heavycnt</th>\n",
       "      <th>hbonddonor</th>\n",
       "      <th>hbondacc</th>\n",
       "      <th>rotbonds</th>\n",
       "      <th>morgan_fp</th>\n",
       "      <th>dc_graph</th>\n",
       "      <th>app_label</th>\n",
       "      <th>tau_label</th>\n",
       "    </tr>\n",
       "  </thead>\n",
       "  <tbody>\n",
       "    <tr>\n",
       "      <th>0</th>\n",
       "      <td>2227226</td>\n",
       "      <td>C1=CC=C(C=C1)OC(=O)C2=CC=CC3=C2N=CC=C3</td>\n",
       "      <td>Inactive</td>\n",
       "      <td>Inactive</td>\n",
       "      <td>InChI=1S/C16H11NO2/c18-16(19-13-8-2-1-3-9-13)1...</td>\n",
       "      <td>GPMDYHKFDVDMLK-UHFFFAOYSA-N</td>\n",
       "      <td>8-Quinolinecarboxylic acid phenyl ester</td>\n",
       "      <td>C1=CC=C(C=C1)OC(=O)C2=CC=CC3=C2N=CC=C3</td>\n",
       "      <td>phenyl quinoline-8-carboxylate|8-quinolinecarb...</td>\n",
       "      <td>249.26</td>\n",
       "      <td>...</td>\n",
       "      <td>312.0</td>\n",
       "      <td>3.6</td>\n",
       "      <td>19</td>\n",
       "      <td>0</td>\n",
       "      <td>3</td>\n",
       "      <td>3</td>\n",
       "      <td>0000000000000000000000000000000000000000000000...</td>\n",
       "      <td>&lt;deepchem.feat.mol_graphs.ConvMol object at 0x...</td>\n",
       "      <td>0</td>\n",
       "      <td>0</td>\n",
       "    </tr>\n",
       "    <tr>\n",
       "      <th>1</th>\n",
       "      <td>135420967</td>\n",
       "      <td>COC1=CC=C(C=C1)N=CC2=C(C3=CC=CC=C3OC2=O)O</td>\n",
       "      <td>Inactive</td>\n",
       "      <td>Inactive</td>\n",
       "      <td>InChI=1S/C17H13NO4/c1-21-12-8-6-11(7-9-12)18-1...</td>\n",
       "      <td>RUCHDIHJKMGHHH-UHFFFAOYSA-N</td>\n",
       "      <td>3-[(4-methoxyanilino)methylene]-2H-chromene-2,...</td>\n",
       "      <td>COC1=CC=C(C=C1)N=CC2=C(C3=CC=CC=C3OC2=O)O</td>\n",
       "      <td>364602-08-4|AGN-PC-0LQKC2|Oprea1_586022|MLS000...</td>\n",
       "      <td>295.29</td>\n",
       "      <td>...</td>\n",
       "      <td>477.0</td>\n",
       "      <td>2.8</td>\n",
       "      <td>22</td>\n",
       "      <td>1</td>\n",
       "      <td>5</td>\n",
       "      <td>3</td>\n",
       "      <td>0000000000000000000000000000000000000000000000...</td>\n",
       "      <td>&lt;deepchem.feat.mol_graphs.ConvMol object at 0x...</td>\n",
       "      <td>0</td>\n",
       "      <td>0</td>\n",
       "    </tr>\n",
       "    <tr>\n",
       "      <th>2</th>\n",
       "      <td>15945137</td>\n",
       "      <td>C1CCN(CC1)CC(=O)C2=CC=C(C=C2)OC(F)F.Br</td>\n",
       "      <td>Inactive</td>\n",
       "      <td>Inactive</td>\n",
       "      <td>InChI=1S/C14H17F2NO2.BrH/c15-14(16)19-12-6-4-1...</td>\n",
       "      <td>RBJGPSFQVZUNKQ-UHFFFAOYSA-N</td>\n",
       "      <td>1-[4-(Difluoromethoxy)phenyl]-2-piperidin-1-yl...</td>\n",
       "      <td>C1CCN(CC1)CC(=O)C2=CC=C(C=C2)OC(F)F.Br</td>\n",
       "      <td>MLS000392681|CHEMBL1301972|SMR000261595</td>\n",
       "      <td>350.20</td>\n",
       "      <td>...</td>\n",
       "      <td>285.0</td>\n",
       "      <td>NaN</td>\n",
       "      <td>20</td>\n",
       "      <td>1</td>\n",
       "      <td>5</td>\n",
       "      <td>5</td>\n",
       "      <td>0110000000000000000000000000000000000000000000...</td>\n",
       "      <td>&lt;deepchem.feat.mol_graphs.ConvMol object at 0x...</td>\n",
       "      <td>0</td>\n",
       "      <td>0</td>\n",
       "    </tr>\n",
       "    <tr>\n",
       "      <th>3</th>\n",
       "      <td>7191270</td>\n",
       "      <td>CCOC(=O)CNC(=O)CSC1=NN=C(S1)NC(=O)C2=CC=C(C=C2)C</td>\n",
       "      <td>Inactive</td>\n",
       "      <td>Inactive</td>\n",
       "      <td>InChI=1S/C16H18N4O4S2/c1-3-24-13(22)8-17-12(21...</td>\n",
       "      <td>QICJAPDRGJFGEK-UHFFFAOYSA-N</td>\n",
       "      <td>Ethyl 2-[[2-[[5-[(4-methylbenzoyl)amino]-1,3,4...</td>\n",
       "      <td>CCOC(=O)CNC(=O)CSC1=NN=C(S1)NC(=O)C2=CC=C(C=C2)C</td>\n",
       "      <td>MLS000624325|893337-54-7|SMR000323633|ethyl 2-...</td>\n",
       "      <td>394.50</td>\n",
       "      <td>...</td>\n",
       "      <td>501.0</td>\n",
       "      <td>2.4</td>\n",
       "      <td>26</td>\n",
       "      <td>2</td>\n",
       "      <td>8</td>\n",
       "      <td>9</td>\n",
       "      <td>0000000000000000000000000000000000000000010000...</td>\n",
       "      <td>&lt;deepchem.feat.mol_graphs.ConvMol object at 0x...</td>\n",
       "      <td>0</td>\n",
       "      <td>0</td>\n",
       "    </tr>\n",
       "    <tr>\n",
       "      <th>4</th>\n",
       "      <td>1356333</td>\n",
       "      <td>C1CN(CCN1C2=CC=CC=C2)S(=O)(=O)C3=CC=CC4=C3N=CC=C4</td>\n",
       "      <td>Inactive</td>\n",
       "      <td>Inactive</td>\n",
       "      <td>InChI=1S/C19H19N3O2S/c23-25(24,18-10-4-6-16-7-...</td>\n",
       "      <td>JFJQCQAUBVYCLI-UHFFFAOYSA-N</td>\n",
       "      <td>4-Phenyl-1-(8-quinolylsulfonyl)piperazine</td>\n",
       "      <td>C1CN(CCN1C2=CC=CC=C2)S(=O)(=O)C3=CC=CC4=C3N=CC=C4</td>\n",
       "      <td>4-PHENYL-1-(8-QUINOLYLSULFONYL)PIPERAZINE|3247...</td>\n",
       "      <td>353.40</td>\n",
       "      <td>...</td>\n",
       "      <td>533.0</td>\n",
       "      <td>2.3</td>\n",
       "      <td>25</td>\n",
       "      <td>0</td>\n",
       "      <td>5</td>\n",
       "      <td>3</td>\n",
       "      <td>0000000000000000000000000000000000000000000000...</td>\n",
       "      <td>&lt;deepchem.feat.mol_graphs.ConvMol object at 0x...</td>\n",
       "      <td>0</td>\n",
       "      <td>0</td>\n",
       "    </tr>\n",
       "  </tbody>\n",
       "</table>\n",
       "<p>5 rows × 22 columns</p>\n",
       "</div>"
      ],
      "text/plain": [
       "   pubchem_cid                                             smiles  \\\n",
       "0      2227226             C1=CC=C(C=C1)OC(=O)C2=CC=CC3=C2N=CC=C3   \n",
       "1    135420967          COC1=CC=C(C=C1)N=CC2=C(C3=CC=CC=C3OC2=O)O   \n",
       "2     15945137             C1CCN(CC1)CC(=O)C2=CC=C(C=C2)OC(F)F.Br   \n",
       "3      7191270   CCOC(=O)CNC(=O)CSC1=NN=C(S1)NC(=O)C2=CC=C(C=C2)C   \n",
       "4      1356333  C1CN(CCN1C2=CC=CC=C2)S(=O)(=O)C3=CC=CC4=C3N=CC=C4   \n",
       "\n",
       "  tau_inhibitor app_inhibitor  \\\n",
       "0      Inactive      Inactive   \n",
       "1      Inactive      Inactive   \n",
       "2      Inactive      Inactive   \n",
       "3      Inactive      Inactive   \n",
       "4      Inactive      Inactive   \n",
       "\n",
       "                                               inchi  \\\n",
       "0  InChI=1S/C16H11NO2/c18-16(19-13-8-2-1-3-9-13)1...   \n",
       "1  InChI=1S/C17H13NO4/c1-21-12-8-6-11(7-9-12)18-1...   \n",
       "2  InChI=1S/C14H17F2NO2.BrH/c15-14(16)19-12-6-4-1...   \n",
       "3  InChI=1S/C16H18N4O4S2/c1-3-24-13(22)8-17-12(21...   \n",
       "4  InChI=1S/C19H19N3O2S/c23-25(24,18-10-4-6-16-7-...   \n",
       "\n",
       "                      inchikey  \\\n",
       "0  GPMDYHKFDVDMLK-UHFFFAOYSA-N   \n",
       "1  RUCHDIHJKMGHHH-UHFFFAOYSA-N   \n",
       "2  RBJGPSFQVZUNKQ-UHFFFAOYSA-N   \n",
       "3  QICJAPDRGJFGEK-UHFFFAOYSA-N   \n",
       "4  JFJQCQAUBVYCLI-UHFFFAOYSA-N   \n",
       "\n",
       "                                            cmpdname  \\\n",
       "0            8-Quinolinecarboxylic acid phenyl ester   \n",
       "1  3-[(4-methoxyanilino)methylene]-2H-chromene-2,...   \n",
       "2  1-[4-(Difluoromethoxy)phenyl]-2-piperidin-1-yl...   \n",
       "3  Ethyl 2-[[2-[[5-[(4-methylbenzoyl)amino]-1,3,4...   \n",
       "4          4-Phenyl-1-(8-quinolylsulfonyl)piperazine   \n",
       "\n",
       "                                           isosmiles  \\\n",
       "0             C1=CC=C(C=C1)OC(=O)C2=CC=CC3=C2N=CC=C3   \n",
       "1          COC1=CC=C(C=C1)N=CC2=C(C3=CC=CC=C3OC2=O)O   \n",
       "2             C1CCN(CC1)CC(=O)C2=CC=C(C=C2)OC(F)F.Br   \n",
       "3   CCOC(=O)CNC(=O)CSC1=NN=C(S1)NC(=O)C2=CC=C(C=C2)C   \n",
       "4  C1CN(CCN1C2=CC=CC=C2)S(=O)(=O)C3=CC=CC4=C3N=CC=C4   \n",
       "\n",
       "                                         cmpdsynonym      mw  ... complexity  \\\n",
       "0  phenyl quinoline-8-carboxylate|8-quinolinecarb...  249.26  ...      312.0   \n",
       "1  364602-08-4|AGN-PC-0LQKC2|Oprea1_586022|MLS000...  295.29  ...      477.0   \n",
       "2            MLS000392681|CHEMBL1301972|SMR000261595  350.20  ...      285.0   \n",
       "3  MLS000624325|893337-54-7|SMR000323633|ethyl 2-...  394.50  ...      501.0   \n",
       "4  4-PHENYL-1-(8-QUINOLYLSULFONYL)PIPERAZINE|3247...  353.40  ...      533.0   \n",
       "\n",
       "   xlogp  heavycnt  hbonddonor  hbondacc  rotbonds  \\\n",
       "0    3.6        19           0         3         3   \n",
       "1    2.8        22           1         5         3   \n",
       "2    NaN        20           1         5         5   \n",
       "3    2.4        26           2         8         9   \n",
       "4    2.3        25           0         5         3   \n",
       "\n",
       "                                           morgan_fp  \\\n",
       "0  0000000000000000000000000000000000000000000000...   \n",
       "1  0000000000000000000000000000000000000000000000...   \n",
       "2  0110000000000000000000000000000000000000000000...   \n",
       "3  0000000000000000000000000000000000000000010000...   \n",
       "4  0000000000000000000000000000000000000000000000...   \n",
       "\n",
       "                                            dc_graph app_label tau_label  \n",
       "0  <deepchem.feat.mol_graphs.ConvMol object at 0x...         0         0  \n",
       "1  <deepchem.feat.mol_graphs.ConvMol object at 0x...         0         0  \n",
       "2  <deepchem.feat.mol_graphs.ConvMol object at 0x...         0         0  \n",
       "3  <deepchem.feat.mol_graphs.ConvMol object at 0x...         0         0  \n",
       "4  <deepchem.feat.mol_graphs.ConvMol object at 0x...         0         0  \n",
       "\n",
       "[5 rows x 22 columns]"
      ]
     },
     "execution_count": 52,
     "metadata": {},
     "output_type": "execute_result"
    }
   ],
   "source": [
    "df = data_preparation.load_data(testing=False)\n",
    "df.head()"
   ]
  },
  {
   "cell_type": "code",
   "execution_count": 76,
   "metadata": {},
   "outputs": [
    {
     "name": "stdout",
     "output_type": "stream",
     "text": [
      "No training - no checkpoints\n",
      "25195\n",
      "25195\n",
      "One epoch of training - no checkpoints\n",
      "25195\n",
      "2559\n"
     ]
    }
   ],
   "source": [
    "weight_to_restore=\"/home/paperspace/Desktop/DL_Project/py_files/tau_interim_weights/epoch_70_checkpoint/ckpt-172.index\"\n",
    "\n",
    "target='tau'\n",
    "\n",
    "parameters=define_final_parameters(\"tau\")\n",
    "probability_threshold=0.2\n",
    "\n",
    "train, valid, test = data_preparation.prepare_data(df, target)\n",
    "task = f'{target}_inhibition'\n",
    "\n",
    "# dictionary to store performance of model, parameters, true labels\n",
    "all_data_dictionary = data_preparation.create_model_dictionary(task, parameters, valid.y)\n",
    "\n",
    "# global model\n",
    "model = dc.models.GraphConvModel(n_tasks=1, mode='classification',\n",
    "                                graph_conv_layers=parameters[\"graph_conv_layers\"],\n",
    "                                batchnorm=parameters['batchnorm'],\n",
    "                                dropout=parameters['dropout'],\n",
    "                                dense_layer_size=parameters['dense_layer_size'],\n",
    "                                batchsize=parameters['batch_size']\n",
    "                                ) # model_dir saves the checkpoints\n",
    "# display model type\n",
    "# model_evaluation.print_dictionary(all_data_dictionary['model_parameters'])\n",
    "no_train_preds=model.predict(valid)\n",
    "\n",
    "binary_preds = np.array([1 if x[0][1] >= probability_threshold else 0 for x in no_train_preds]) # 1 = 'Active\n",
    "print(\"No training - no checkpoints\")\n",
    "print(len(binary_preds))\n",
    "print(sum(binary_preds))\n",
    "# all_metrics = {}\n",
    "model.fit(train, nb_epoch=1)\n",
    "\n",
    "one_epoch=model.predict(valid)\n",
    "\n",
    "binary_preds = np.array([1 if x[0][1] >= probability_threshold else 0 for x in one_epoch]) # 1 = 'Active\n",
    "print(\"One epoch of training - no checkpoints\")\n",
    "print(len(binary_preds))\n",
    "print(sum(binary_preds))\n",
    "\n",
    "# model.model_dir=f'{target}_model_checkpoint'\n",
    "# model.save_checkpoint()\n",
    "\n",
    "# model.fit(train, nb_epoch=1)\n",
    "# model.save_checkpoint()\n",
    "\n",
    "# model.fit(train, nb_epoch=1)\n",
    "# model.save_checkpoint()"
   ]
  },
  {
   "cell_type": "code",
   "execution_count": 77,
   "metadata": {},
   "outputs": [
    {
     "name": "stdout",
     "output_type": "stream",
     "text": [
      "No training - restored once from checkpoint\n",
      "25196\n",
      "2553\n"
     ]
    }
   ],
   "source": [
    "model.restore(weight_to_restore)\n",
    "no_train_preds=model.predict(test)\n",
    "no_train_preds[:5]\n",
    "\n",
    "binary_preds = np.array([1 if x[0][1] >= probability_threshold else 0 for x in no_train_preds]) # 1 = 'Active\n",
    "print(\"No training - restored once from checkpoint\")\n",
    "print(len(binary_preds))\n",
    "print(sum(binary_preds))\n"
   ]
  },
  {
   "cell_type": "code",
   "execution_count": 78,
   "metadata": {},
   "outputs": [
    {
     "name": "stdout",
     "output_type": "stream",
     "text": [
      "No training - restored twice from checkpoint after predicting\n",
      "25196\n",
      "2553\n"
     ]
    }
   ],
   "source": [
    "model.restore(weight_to_restore)\n",
    "no_train_preds=model.predict(test)\n",
    "\n",
    "binary_preds = np.array([1 if x[0][1] >= probability_threshold else 0 for x in no_train_preds]) # 1 = 'Active\n",
    "print(\"No training - restored twice from checkpoint after predicting\")\n",
    "print(len(binary_preds))\n",
    "print(sum(binary_preds))\n"
   ]
  },
  {
   "cell_type": "code",
   "execution_count": 86,
   "metadata": {},
   "outputs": [],
   "source": [
    "new_model=None"
   ]
  },
  {
   "cell_type": "code",
   "execution_count": 92,
   "metadata": {},
   "outputs": [],
   "source": [
    "new_model= dc.models.GraphConvModel(n_tasks=1, mode='classification',\n",
    "                                graph_conv_layers=parameters[\"graph_conv_layers\"],\n",
    "                                batchnorm=parameters['batchnorm'],\n",
    "                                dropout=parameters['dropout'],\n",
    "                                dense_layer_size=parameters['dense_layer_size'],\n",
    "                                batchsize=parameters['batch_size'],\n",
    "                                model_dir=weight_to_restore\n",
    "                                ) # model_dir saves the checkpoints"
   ]
  },
  {
   "cell_type": "code",
   "execution_count": 93,
   "metadata": {},
   "outputs": [
    {
     "name": "stdout",
     "output_type": "stream",
     "text": [
      "No training - new model no checkpoint\n",
      "25195\n",
      "25195\n"
     ]
    }
   ],
   "source": [
    "second_preds=new_model.predict(valid)\n",
    "\n",
    "binary_preds = np.array([1 if x[0][1] >= probability_threshold else 0 for x in second_preds]) # 1 = 'Active\n",
    "print(\"No training - new model no checkpoint\")\n",
    "print(len(binary_preds))\n",
    "print(sum(binary_preds))"
   ]
  },
  {
   "cell_type": "code",
   "execution_count": 94,
   "metadata": {},
   "outputs": [
    {
     "name": "stdout",
     "output_type": "stream",
     "text": [
      "No training - new model restored once\n",
      "25195\n",
      "25195\n"
     ]
    },
    {
     "ename": "",
     "evalue": "",
     "output_type": "error",
     "traceback": [
      "\u001b[1;31mThe Kernel crashed while executing code in the the current cell or a previous cell. Please review the code in the cell(s) to identify a possible cause of the failure. Click <a href='https://aka.ms/vscodeJupyterKernelCrash'>here</a> for more info. View Jupyter <a href='command:jupyter.viewOutput'>log</a> for further details."
     ]
    }
   ],
   "source": [
    "new_model.restore(weight_to_restore)\n",
    "third_preds=new_model.predict(valid)\n",
    "\n",
    "binary_preds = np.array([1 if x[0][1] >= probability_threshold else 0 for x in third_preds]) # 1 = 'Active\n",
    "print(\"No training - new model restored once\")\n",
    "print(len(binary_preds))\n",
    "print(sum(binary_preds))"
   ]
  },
  {
   "cell_type": "code",
   "execution_count": null,
   "metadata": {},
   "outputs": [],
   "source": []
  },
  {
   "cell_type": "code",
   "execution_count": 90,
   "metadata": {},
   "outputs": [
    {
     "name": "stdout",
     "output_type": "stream",
     "text": [
      "No training - new model restored twice\n",
      "25195\n",
      "104\n"
     ]
    }
   ],
   "source": [
    "new_model.restore(weight_to_restore)\n",
    "fourth_preds=new_model.predict(valid)\n",
    "\n",
    "binary_preds = np.array([1 if x[0][1] >= probability_threshold else 0 for x in fourth_preds]) # 1 = 'Active\n",
    "print(\"No training - new model restored twice\")\n",
    "print(len(binary_preds))\n",
    "print(sum(binary_preds))"
   ]
  },
  {
   "cell_type": "code",
   "execution_count": 91,
   "metadata": {},
   "outputs": [
    {
     "data": {
      "text/plain": [
       "array([0, 0, 0, ..., 0, 0, 0])"
      ]
     },
     "execution_count": 91,
     "metadata": {},
     "output_type": "execute_result"
    }
   ],
   "source": [
    "# tau preds with epoch_70_checkpoint/ckpt-172.index\n",
    "binary_preds"
   ]
  },
  {
   "cell_type": "code",
   "execution_count": 85,
   "metadata": {},
   "outputs": [
    {
     "data": {
      "text/plain": [
       "array([1, 1, 1, ..., 1, 1, 1])"
      ]
     },
     "execution_count": 85,
     "metadata": {},
     "output_type": "execute_result"
    }
   ],
   "source": [
    "# tau preds with epoch_70_checkpoint/ckpt-172.index\n",
    "binary_preds"
   ]
  },
  {
   "cell_type": "code",
   "execution_count": 13,
   "metadata": {},
   "outputs": [
    {
     "data": {
      "text/plain": [
       "array([0, 1, 0, 1, 1, 0, 0, 0, 1, 0, 0, 0, 0, 0, 1, 1, 1, 0, 0, 1, 0, 0,\n",
       "       1, 1, 1, 1, 1, 0, 1, 0, 1, 0, 1, 0, 0, 1, 1, 1, 0, 0, 0, 1, 0, 0,\n",
       "       0, 1, 0, 0, 0, 0, 0, 1, 0, 1, 1, 0, 1, 1, 1, 1, 0, 0, 0, 0, 1, 0,\n",
       "       0, 0, 1, 0, 1, 1, 1, 1, 0, 1, 0, 0, 0, 1, 1, 0, 0, 1, 0, 1, 0, 0,\n",
       "       1, 0, 0, 0, 0, 0, 1, 0])"
      ]
     },
     "execution_count": 13,
     "metadata": {},
     "output_type": "execute_result"
    }
   ],
   "source": [
    "\n",
    "# tau preds with checkpoint epoch_150_checkpoint/ckpt-332.index\n",
    "binary_preds"
   ]
  },
  {
   "cell_type": "code",
   "execution_count": null,
   "metadata": {},
   "outputs": [],
   "source": []
  },
  {
   "cell_type": "code",
   "execution_count": null,
   "metadata": {},
   "outputs": [],
   "source": []
  },
  {
   "cell_type": "code",
   "execution_count": null,
   "metadata": {},
   "outputs": [],
   "source": [
    "new_model.save_checkpoint()"
   ]
  },
  {
   "cell_type": "code",
   "execution_count": null,
   "metadata": {},
   "outputs": [],
   "source": [
    "# new_model.restore(\"/home/paperspace/Desktop/DL_Project/ipynb_files/asdfasdf/ckpt-1.index\")"
   ]
  },
  {
   "cell_type": "code",
   "execution_count": null,
   "metadata": {},
   "outputs": [],
   "source": [
    "def load_model_weights(target: str) -> str:\n",
    "    \"\"\"\n",
    "    Based on the target, return the file path for the pre-trained model weights\n",
    "    \"\"\"\n",
    "    base_path=\"/home/paperspace/Desktop/DL_Project/py_files/\"\n",
    "\n",
    "    if target == 'tau':\n",
    "        # epoch 130\n",
    "        file_path=\"tau_interim_weights/epoch_130_checkpoint/ckpt-309.index\"\n",
    "    elif target=='app':\n",
    "        # epoch 150\n",
    "        file_path=\"app_interim_weights/epoch_150_checkpoint/ckpt-262.index\"\n",
    "    \n",
    "    return base_path + file_path"
   ]
  },
  {
   "cell_type": "code",
   "execution_count": null,
   "metadata": {},
   "outputs": [],
   "source": [
    "new_model.restore(base_path + file_path)"
   ]
  },
  {
   "cell_type": "code",
   "execution_count": null,
   "metadata": {},
   "outputs": [],
   "source": [
    "target='tau'\n",
    "\n",
    "parameters=define_final_parameters(target)\n",
    "probability_threshold=0.2\n",
    "\n",
    "new_model= dc.models.GraphConvModel(n_tasks=1, mode='classification',\n",
    "                                graph_conv_layers=parameters[\"graph_conv_layers\"],\n",
    "                                batchnorm=parameters['batchnorm'],\n",
    "                                dropout=parameters['dropout'],\n",
    "                                dense_layer_size=parameters['dense_layer_size'],\n",
    "                                batchsize=parameters['batch_size'],\n",
    "                                model_dir='model_model')\n",
    "\n",
    "checkpoint_path=load_model_weights('tau')\n",
    "new_model.load_model_weights(checkpoint_path)\n",
    "# new_model.restore(checkpoint_path)"
   ]
  },
  {
   "cell_type": "code",
   "execution_count": null,
   "metadata": {},
   "outputs": [],
   "source": [
    "import joblib\n",
    "base_path"
   ]
  },
  {
   "cell_type": "code",
   "execution_count": null,
   "metadata": {},
   "outputs": [],
   "source": [
    "base_path=\"/home/paperspace/Desktop/DL_Project/py_files/\"\n",
    "joblib.dump(new_model, f'{base_path}model.pkl')"
   ]
  },
  {
   "cell_type": "code",
   "execution_count": null,
   "metadata": {},
   "outputs": [],
   "source": [
    "def prepare_data(df_copy: pd.DataFrame):\n",
    "    \"\"\"\n",
    "    adsfaf\n",
    "    \"\"\"\n",
    "\n",
    "    # filter compounds not tested on the target of interest\n",
    "    # df = df_copy[~df_copy[f'{target}_inhibitor'].isnull()]\n",
    "\n",
    "    X = np.array(df_copy['dc_graph'])\n",
    "    # y = np.array(df[f\"{target}_label\"])\n",
    "\n",
    "    # transform\n",
    "    # dataset = dc.data.NumpyDataset(X = X, y = y)\n",
    "    dataset = dc.data.NumpyDataset(X = X)\n",
    "\n",
    "    return dataset"
   ]
  },
  {
   "cell_type": "markdown",
   "metadata": {},
   "source": [
    "sample_data"
   ]
  },
  {
   "cell_type": "code",
   "execution_count": null,
   "metadata": {},
   "outputs": [],
   "source": [
    "sample_data=data_preparation.load_data(testing=True)\n",
    "pred_set=prepare_data(sample_data)\n",
    "display(sample_data.head())\n",
    "print(pred_set)\n"
   ]
  },
  {
   "cell_type": "code",
   "execution_count": null,
   "metadata": {},
   "outputs": [],
   "source": [
    "predictions=new_model.predict(pred_set)\n",
    "binary_preds = np.array([1 if x[0][1] >= probability_threshold else 0 for x in predictions]) # 1 = 'Active"
   ]
  },
  {
   "cell_type": "code",
   "execution_count": null,
   "metadata": {},
   "outputs": [],
   "source": [
    "len([x[0][1] for x in predictions])"
   ]
  },
  {
   "cell_type": "code",
   "execution_count": null,
   "metadata": {},
   "outputs": [],
   "source": [
    "sample_copy=sample_data.copy()\n",
    "# test['probabilities']=np.array([x[0][1] for x in predictions])"
   ]
  },
  {
   "cell_type": "code",
   "execution_count": null,
   "metadata": {},
   "outputs": [],
   "source": [
    "sample_copy"
   ]
  },
  {
   "cell_type": "code",
   "execution_count": null,
   "metadata": {},
   "outputs": [],
   "source": [
    "predictions"
   ]
  },
  {
   "cell_type": "code",
   "execution_count": null,
   "metadata": {},
   "outputs": [],
   "source": [
    "pred_set=pd.read_pickle(\"/home/paperspace/Desktop/DL_Project/data/full_prediction_set_fp_graphs.pickle\")\n",
    "pred_set"
   ]
  },
  {
   "cell_type": "code",
   "execution_count": null,
   "metadata": {},
   "outputs": [],
   "source": [
    "sample_copy"
   ]
  },
  {
   "cell_type": "code",
   "execution_count": null,
   "metadata": {},
   "outputs": [],
   "source": [
    "checkpoint_path=\"model_model/ckpt-2.index\""
   ]
  },
  {
   "cell_type": "code",
   "execution_count": null,
   "metadata": {},
   "outputs": [],
   "source": [
    "new_model.restore(checkpoint_path)"
   ]
  },
  {
   "cell_type": "code",
   "execution_count": null,
   "metadata": {},
   "outputs": [],
   "source": [
    "pathq=\"/home/paperspace/Desktop/DL_Project/py_files/app_interim_weights/epoch_100_checkpoint/ckpt-187.index\"\n",
    "new_model.load_model_weights(pathq)"
   ]
  },
  {
   "cell_type": "code",
   "execution_count": 28,
   "metadata": {},
   "outputs": [],
   "source": [
    "\n",
    "base_folder=\"/home/paperspace/Desktop/DL_Project/final_outputs/\"\n",
    "\n",
    "result_folder=\"12_25_2023-14_55_tau_[64, 64, 64, 64]_0_False_256_500_150_results/\"\n",
    "file_name=\"12_25_2023-14_55_tau_[64, 64, 64, 64]_0_False_256_500_150_results_file.txt\"\n",
    "\n",
    "results_file=base_folder+result_folder+file_name\n",
    "\n",
    "with open(f\"{results_file}\", \"r\") as f:\n",
    "    try:\n",
    "        outputs=json.load(f)\n",
    "    except:\n",
    "        print(\"hi\")"
   ]
  },
  {
   "cell_type": "code",
   "execution_count": 29,
   "metadata": {},
   "outputs": [],
   "source": [
    "epochs=130\n",
    "training_losses=[]\n",
    "validation_losses=[]\n",
    "for epoch in range(5, epochs+1, 5):\n",
    "    training_losses.append(outputs['results'][f'{epoch}']['training']['log_loss'])\n",
    "    validation_losses.append(outputs['results'][f'{epoch}']['validation']['log_loss'])\n",
    "\n",
    "# outputs['results']['80']['validation']['log_loss']"
   ]
  },
  {
   "cell_type": "code",
   "execution_count": 36,
   "metadata": {},
   "outputs": [
    {
     "data": {
      "image/png": "[encoded data removed]",
      "text/plain": [
       "<Figure size 640x480 with 1 Axes>"
      ]
     },
     "metadata": {},
     "output_type": "display_data"
    }
   ],
   "source": [
    "plt.style.use('ggplot')\n",
    "plt.plot(training_losses, color='red', label='Training Set')\n",
    "plt.plot(validation_losses, color='blue', label='Validation Set')\n",
    "# plt.xticks([i for i in range(5, 131, 5)])\n",
    "plt.legend()\n",
    "plt.title(\"Log Loss of Training and Validation Set - Tau\")\n",
    "plt.ylim([0,.6])\n",
    "plt.show()"
   ]
  },
  {
   "cell_type": "code",
   "execution_count": null,
   "metadata": {},
   "outputs": [],
   "source": []
  }
 ],
 "metadata": {
  "kernelspec": {
   "display_name": "Python 3",
   "language": "python",
   "name": "python3"
  },
  "language_info": {
   "codemirror_mode": {
    "name": "ipython",
    "version": 3
   },
   "file_extension": ".py",
   "mimetype": "text/x-python",
   "name": "python",
   "nbconvert_exporter": "python",
   "pygments_lexer": "ipython3",
   "version": "3.9.16"
  }
 },
 "nbformat": 4,
 "nbformat_minor": 2
}
