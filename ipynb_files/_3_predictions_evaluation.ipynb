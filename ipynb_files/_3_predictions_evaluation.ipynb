{
  "cells": [
    {
      "cell_type": "code",
      "execution_count": 4,
      "id": "6f6bcd22-95bc-4c42-a232-17dc0b8ea6ff",
      "metadata": {
        "colab": {
          "base_uri": "https://localhost:8080/"
        },
        "id": "6f6bcd22-95bc-4c42-a232-17dc0b8ea6ff",
        "outputId": "55eda533-4a14-4088-9559-c6507fcf0957"
      },
      "outputs": [],
      "source": [
        "import pandas as pd\n",
        "import deepchem as dc\n",
        "import rdkit\n",
        "from rdkit import Chem\n",
        "from rdkit.Chem import AllChem\n",
        "import os\n",
        "import time\n",
        "import sklearn\n",
        "from sklearn.decomposition import PCA\n",
        "from multiprocessing import Pool, TimeoutError, Manager\n",
        "from functools import partial\n",
        "from rdkit.Chem import rdmolops\n",
        "from rdkit.Chem.MolStandardize import rdMolStandardize\n",
        "from rdkit.Chem import SaltRemover\n",
        "import pubchempy as pcp\n",
        "import random\n",
        "import json\n",
        "import numpy as np\n",
        "from tqdm import tqdm\n",
        "from rdkit.Chem import PandasTools\n",
        "from rdkit.Chem import rdmolops\n",
        "from rdkit import RDConfig\n",
        "import pickle \n",
        "from IPython.display import clear_output\n",
        "clear_output()\n",
        "# import torch"
      ]
    },
    {
      "cell_type": "code",
      "execution_count": 42,
      "id": "5b801f2c",
      "metadata": {},
      "outputs": [],
      "source": [
        "# https://www.rdkit.org/docs/source/rdkit.Chem.SaltRemover.html\n",
        "\n",
        "def strip_salts_neutralize(smiles: str) -> str:\n",
        "\n",
        "    # canonicalize original smiles to compare neutralized\n",
        "    canonical_smiles=Chem.MolToSmiles(Chem.MolFromSmiles(smiles))\n",
        "    # strip salt\n",
        "    remover = SaltRemover.SaltRemover()\n",
        "    mol = Chem.MolFromSmiles(smiles)\n",
        "    no_salt_mol = remover.StripMol(mol)\n",
        "    # neutralize\n",
        "    un = rdMolStandardize.Uncharger()\n",
        "    uncharged_mol=un.uncharge(no_salt_mol)\n",
        "    uncharged_smiles=Chem.MolToSmiles(uncharged_mol)\n",
        "    updated_charge=rdmolops.GetFormalCharge(uncharged_mol)\n",
        "\n",
        "    return canonical_smiles, uncharged_smiles, updated_charge"
      ]
    },
    {
      "cell_type": "code",
      "execution_count": 43,
      "id": "543bbd94",
      "metadata": {},
      "outputs": [],
      "source": [
        "def load_predictions(target: str) -> pd.DataFrame():\n",
        "    \n",
        "    print(\"Loading Prediction Set\")\n",
        "    file_path=f\"/home/paperspace/Desktop/DL_Project/final_outputs/{target}_predictions_flagged_admet_14Jan2024.xlsx\"\n",
        "    df=pd.read_excel(file_path)\n",
        "\n",
        "    return df"
      ]
    },
    {
      "cell_type": "code",
      "execution_count": 44,
      "id": "1088fa08",
      "metadata": {},
      "outputs": [],
      "source": [
        "def load_and_format_prediction_set(target: str, drugbank_only=True) -> pd.DataFrame:\n",
        "\n",
        "    predictions_df=load_predictions(target)\n",
        "\n",
        "    # will actually remove chembl\n",
        "    if drugbank_only:\n",
        "        predictions_df=predictions_df[predictions_df['source']=='Drugbank'].reset_index(drop=True)\n",
        "    print(f\"Number of {target} predictions: {len(predictions_df):,}\")\n",
        "    print(f\"Breakdown of predictions:\")\n",
        "    # predictions_df['binary_pred'].replace({0: 'Inactive', 1: 'Active'}, inplace=True)\n",
        "    # predictions_df.rename(columns={\"binary_pred\": \"prediction\"}, inplace=True)\n",
        "    # display(pd.DataFrame(predictions_df['prediction'].value_counts()))\n",
        "\n",
        "    return predictions_df"
      ]
    },
    {
      "cell_type": "code",
      "execution_count": 45,
      "id": "46313e97",
      "metadata": {},
      "outputs": [],
      "source": [
        "def load_drugbank() -> pd.DataFrame:\n",
        "    \"\"\"\n",
        "    Load drug data from the DrugBank 3D structures SDF file and return a DataFrame.\n",
        "    The DrugBank dataset contains information about drugs, including molecular structures.\n",
        "    \"\"\"\n",
        "\n",
        "    print(\"Loading Drugbank\")\n",
        "    file_name=\"/home/paperspace/Desktop/DL_Project/data/partial_archived/drugbank_3D_structures.sdf\"\n",
        "\n",
        "    sdfFile = os.path.join(file_name)\n",
        "    frame = PandasTools.LoadSDF(sdfFile,smilesName='SMILES',molColName='Molecule',\n",
        "            includeFingerprints=True)\n",
        "\n",
        "    df=frame[['DATABASE_ID', \"SMILES\", \"INCHI_KEY\", 'DRUG_GROUPS', 'MOLECULAR_WEIGHT', 'GENERIC_NAME', 'Molecule']]\n",
        "\n",
        "    df.columns=df.columns.str.lower()\n",
        "    df.rename(columns={\"inchi_key\": \"inchikey\"}, inplace=True)\n",
        "    \n",
        "    clear_output()\n",
        "    # display(df.head(2))\n",
        "    return df"
      ]
    },
    {
      "cell_type": "markdown",
      "id": "3d5b09a7",
      "metadata": {},
      "source": [
        "### Get Chembl for Chemical Properties"
      ]
    },
    {
      "cell_type": "code",
      "execution_count": 46,
      "id": "aa6ead73",
      "metadata": {},
      "outputs": [],
      "source": [
        "def repull_chembl():\n",
        "\n",
        "    print(\"Loading Chembl\")\n",
        "    chembl_df=pd.read_csv(\"/home/paperspace/Desktop/DL_Project/data/chembl_full_formatted.csv\")\n",
        "\n",
        "    return chembl_df"
      ]
    },
    {
      "cell_type": "markdown",
      "id": "b30271e7",
      "metadata": {},
      "source": [
        "### Get PubChem for Chemical Properties Missing from Chembl"
      ]
    },
    {
      "cell_type": "code",
      "execution_count": 47,
      "id": "e67058d6",
      "metadata": {},
      "outputs": [],
      "source": [
        "def load_pubchem() -> pd.DataFrame:\n",
        "    \n",
        "    print(\"Loading PubChem\")\n",
        "    pubchem_metadata=pd.read_csv(\"/home/paperspace/Desktop/DL_Project/data/prediction_set_pubchem_metadata.csv\")\n",
        "    pubchem_metadata=pubchem_metadata.drop_duplicates(subset='inchikey')\n",
        "    pubchem_metadata.columns=[x+\"_pubchem\" for x in pubchem_metadata.columns]\n",
        "\n",
        "    return pubchem_metadata"
      ]
    },
    {
      "cell_type": "code",
      "execution_count": 130,
      "id": "d75f951b",
      "metadata": {},
      "outputs": [
        {
          "name": "stdout",
          "output_type": "stream",
          "text": [
            "Loading Chembl\n"
          ]
        },
        {
          "name": "stderr",
          "output_type": "stream",
          "text": [
            "/tmp/ipykernel_3577/1429672929.py:4: DtypeWarning: Columns (27) have mixed types. Specify dtype option on import or set low_memory=False.\n",
            "  chembl_df=pd.read_csv(\"/home/paperspace/Desktop/DL_Project/data/chembl_full_formatted.csv\")\n"
          ]
        },
        {
          "name": "stdout",
          "output_type": "stream",
          "text": [
            "Loading PubChem\n"
          ]
        }
      ],
      "source": [
        "target=\"tau\"\n",
        "\n",
        "predictions_df=load_and_format_prediction_set(target=target)\n",
        "drugbank=load_drugbank()\n",
        "chembl_df = repull_chembl()\n",
        "pubchem_metadata=load_pubchem()\n",
        "\n",
        "# predicted_active=predictions_df[predictions_df['prediction']=='Active']\n",
        "## get predictions and drugbank columns together\n",
        "# joined_drugbank=predictions_df.merge(drugbank, how='left', on='inchikey')"
      ]
    },
    {
      "cell_type": "code",
      "execution_count": 131,
      "id": "be23dff8",
      "metadata": {},
      "outputs": [],
      "source": [
        "# chembl_df = repull_chembl()"
      ]
    },
    {
      "cell_type": "code",
      "execution_count": 132,
      "id": "2def28a1",
      "metadata": {},
      "outputs": [],
      "source": [
        "# joined_drugbank=drugbank.copy()\n",
        "# joined_drugbank=predictions_df.merge(drugbank, how='left', on='inchikey')\n",
        "# drugbank"
      ]
    },
    {
      "cell_type": "code",
      "execution_count": 133,
      "id": "40a70a0b",
      "metadata": {},
      "outputs": [],
      "source": [
        "# drugbank_fps=pd.read_pickle(\"/home/paperspace/Desktop/DL_Project/data/drugbank_fp_graphs.pickle\")\n",
        "# joined_drugbank=drugbank_fps.copy()\n",
        "predictions_df.columns\n",
        "predictions_filtered=predictions_df[['inchikey', 'uncharged_smiles', 'prediction',\n",
        "'active_probability', 'database_id']]"
      ]
    },
    {
      "cell_type": "code",
      "execution_count": 134,
      "id": "4ea97559",
      "metadata": {},
      "outputs": [],
      "source": [
        "joined_drugbank=predictions_filtered.merge(drugbank, how='left', on='inchikey')"
      ]
    },
    {
      "cell_type": "markdown",
      "id": "c7e8eac2",
      "metadata": {},
      "source": [
        "### Generate the Inchikey for the Uncharged Cleaned SMILES - Join to Chembl for Properties"
      ]
    },
    {
      "cell_type": "code",
      "execution_count": 135,
      "id": "7322ee83",
      "metadata": {},
      "outputs": [],
      "source": [
        "## uncharged smiles already in the dataframe\n",
        "joined_drugbank['uncharged_inchikey']=joined_drugbank['uncharged_smiles'].apply(lambda x: Chem.MolToInchiKey(Chem.MolFromSmiles(x)))"
      ]
    },
    {
      "cell_type": "code",
      "execution_count": 136,
      "id": "6eaf9d4f",
      "metadata": {},
      "outputs": [
        {
          "name": "stdout",
          "output_type": "stream",
          "text": [
            "7,487 of 8,390 compounds do not change after removing salts and charges.\n"
          ]
        }
      ],
      "source": [
        "equivalent=(joined_drugbank['inchikey']==joined_drugbank['uncharged_inchikey']).sum()\n",
        "print(f\"{equivalent:,} of {len(joined_drugbank):,} compounds do not change after removing salts and charges.\")"
      ]
    },
    {
      "cell_type": "code",
      "execution_count": 137,
      "id": "11f1d47d",
      "metadata": {},
      "outputs": [
        {
          "name": "stdout",
          "output_type": "stream",
          "text": [
            "Length of drugbank after joining to Chembl: 8,390\n"
          ]
        },
        {
          "data": {
            "text/html": [
              "<div>\n",
              "<style scoped>\n",
              "    .dataframe tbody tr th:only-of-type {\n",
              "        vertical-align: middle;\n",
              "    }\n",
              "\n",
              "    .dataframe tbody tr th {\n",
              "        vertical-align: top;\n",
              "    }\n",
              "\n",
              "    .dataframe thead th {\n",
              "        text-align: right;\n",
              "    }\n",
              "</style>\n",
              "<table border=\"1\" class=\"dataframe\">\n",
              "  <thead>\n",
              "    <tr style=\"text-align: right;\">\n",
              "      <th></th>\n",
              "      <th>inchikey</th>\n",
              "      <th>uncharged_smiles</th>\n",
              "      <th>prediction</th>\n",
              "      <th>active_probability</th>\n",
              "      <th>database_id_x</th>\n",
              "      <th>database_id_y</th>\n",
              "      <th>smiles</th>\n",
              "      <th>drug_groups</th>\n",
              "      <th>molecular_weight</th>\n",
              "      <th>generic_name</th>\n",
              "      <th>...</th>\n",
              "      <th>Heavy Atoms</th>\n",
              "      <th>HBA (Lipinski)</th>\n",
              "      <th>HBD (Lipinski)</th>\n",
              "      <th>#RO5 Violations (Lipinski)</th>\n",
              "      <th>Molecular Weight (Monoisotopic)</th>\n",
              "      <th>Molecular Species</th>\n",
              "      <th>Molecular Formula</th>\n",
              "      <th>Smiles</th>\n",
              "      <th>Unnamed: 32</th>\n",
              "      <th>Unnamed: 33</th>\n",
              "    </tr>\n",
              "  </thead>\n",
              "  <tbody>\n",
              "    <tr>\n",
              "      <th>0</th>\n",
              "      <td>NGVDGCNFYWLIFO-UHFFFAOYSA-N</td>\n",
              "      <td>Cc1ncc(COP(=O)(O)O)c(C=O)c1O</td>\n",
              "      <td>Inactive</td>\n",
              "      <td>6.999738e-06</td>\n",
              "      <td>DB00114</td>\n",
              "      <td>DB00114</td>\n",
              "      <td>Cc1ncc(COP(=O)(O)O)c(C=O)c1O</td>\n",
              "      <td>approved; investigational; nutraceutical</td>\n",
              "      <td>247.1419</td>\n",
              "      <td>Pyridoxal phosphate</td>\n",
              "      <td>...</td>\n",
              "      <td>16</td>\n",
              "      <td>7</td>\n",
              "      <td>3</td>\n",
              "      <td>0</td>\n",
              "      <td>247.0246</td>\n",
              "      <td>ACID</td>\n",
              "      <td>C8H10NO6P</td>\n",
              "      <td>Cc1ncc(COP(=O)(O)O)c(C=O)c1O</td>\n",
              "      <td>NaN</td>\n",
              "      <td>NaN</td>\n",
              "    </tr>\n",
              "    <tr>\n",
              "      <th>1</th>\n",
              "      <td>DFEYYRMXOJXZRJ-UHFFFAOYSA-N</td>\n",
              "      <td>FCOC(C(F)(F)F)C(F)(F)F</td>\n",
              "      <td>Inactive</td>\n",
              "      <td>1.606359e-04</td>\n",
              "      <td>DB01236</td>\n",
              "      <td>DB01236</td>\n",
              "      <td>FCOC(C(F)(F)F)C(F)(F)F</td>\n",
              "      <td>approved; vet_approved</td>\n",
              "      <td>200.0548</td>\n",
              "      <td>Sevoflurane</td>\n",
              "      <td>...</td>\n",
              "      <td>12</td>\n",
              "      <td>1</td>\n",
              "      <td>0</td>\n",
              "      <td>0</td>\n",
              "      <td>200.0072</td>\n",
              "      <td>NEUTRAL</td>\n",
              "      <td>C4H3F7O</td>\n",
              "      <td>FCOC(C(F)(F)F)C(F)(F)F</td>\n",
              "      <td>NaN</td>\n",
              "      <td>NaN</td>\n",
              "    </tr>\n",
              "    <tr>\n",
              "      <th>2</th>\n",
              "      <td>RKNHJBVBFHDXGR-MRUDJCSFSA-N</td>\n",
              "      <td>[H]/N=c1\\c2ncn([C@@H]3O[C@H](CO[P@](=O)(O)O[P@...</td>\n",
              "      <td>Active</td>\n",
              "      <td>2.960842e-01</td>\n",
              "      <td>DB01661</td>\n",
              "      <td>DB01661</td>\n",
              "      <td>[H]/N=c1\\c2ncn([C@@H]3O[C@H](CO[P@](=O)(O)O[P@...</td>\n",
              "      <td>experimental</td>\n",
              "      <td>719.2755</td>\n",
              "      <td>1-(5-phospho-D-ribosyl)-ATP</td>\n",
              "      <td>...</td>\n",
              "      <td>NaN</td>\n",
              "      <td>NaN</td>\n",
              "      <td>NaN</td>\n",
              "      <td>NaN</td>\n",
              "      <td>NaN</td>\n",
              "      <td>NaN</td>\n",
              "      <td>NaN</td>\n",
              "      <td>NaN</td>\n",
              "      <td>NaN</td>\n",
              "      <td>NaN</td>\n",
              "    </tr>\n",
              "    <tr>\n",
              "      <th>3</th>\n",
              "      <td>WHBIGIKBNXZKFE-UHFFFAOYSA-N</td>\n",
              "      <td>CC(C)Nc1cccnc1N1CCN(C(=O)c2cc3cc(NS(C)(=O)=O)c...</td>\n",
              "      <td>Inactive</td>\n",
              "      <td>3.756666e-08</td>\n",
              "      <td>DB00705</td>\n",
              "      <td>DB00705</td>\n",
              "      <td>CC(C)Nc1cccnc1N1CCN(C(=O)c2cc3cc(NS(C)(=O)=O)c...</td>\n",
              "      <td>approved</td>\n",
              "      <td>456.561</td>\n",
              "      <td>Delavirdine</td>\n",
              "      <td>...</td>\n",
              "      <td>32</td>\n",
              "      <td>9</td>\n",
              "      <td>3</td>\n",
              "      <td>0</td>\n",
              "      <td>456.1944</td>\n",
              "      <td>NEUTRAL</td>\n",
              "      <td>C22H28N6O3S</td>\n",
              "      <td>CC(C)Nc1cccnc1N1CCN(C(=O)c2cc3cc(NS(C)(=O)=O)c...</td>\n",
              "      <td>NaN</td>\n",
              "      <td>NaN</td>\n",
              "    </tr>\n",
              "    <tr>\n",
              "      <th>4</th>\n",
              "      <td>MSTNYGQPCMXVAQ-KIYNQFGBSA-N</td>\n",
              "      <td>Nc1nc(=O)c2c([nH]1)NC[C@H](CNc1ccc(C(=O)N[C@@H...</td>\n",
              "      <td>Inactive</td>\n",
              "      <td>4.423987e-07</td>\n",
              "      <td>DB00116</td>\n",
              "      <td>DB00116</td>\n",
              "      <td>Nc1nc(=O)c2c([nH]1)NC[C@H](CNc1ccc(C(=O)N[C@@H...</td>\n",
              "      <td>nutraceutical</td>\n",
              "      <td>445.4292</td>\n",
              "      <td>Tetrahydrofolic acid</td>\n",
              "      <td>...</td>\n",
              "      <td>NaN</td>\n",
              "      <td>NaN</td>\n",
              "      <td>NaN</td>\n",
              "      <td>NaN</td>\n",
              "      <td>NaN</td>\n",
              "      <td>NaN</td>\n",
              "      <td>NaN</td>\n",
              "      <td>NaN</td>\n",
              "      <td>NaN</td>\n",
              "      <td>NaN</td>\n",
              "    </tr>\n",
              "  </tbody>\n",
              "</table>\n",
              "<p>5 rows × 45 columns</p>\n",
              "</div>"
            ],
            "text/plain": [
              "                      inchikey  \\\n",
              "0  NGVDGCNFYWLIFO-UHFFFAOYSA-N   \n",
              "1  DFEYYRMXOJXZRJ-UHFFFAOYSA-N   \n",
              "2  RKNHJBVBFHDXGR-MRUDJCSFSA-N   \n",
              "3  WHBIGIKBNXZKFE-UHFFFAOYSA-N   \n",
              "4  MSTNYGQPCMXVAQ-KIYNQFGBSA-N   \n",
              "\n",
              "                                    uncharged_smiles prediction  \\\n",
              "0                       Cc1ncc(COP(=O)(O)O)c(C=O)c1O   Inactive   \n",
              "1                             FCOC(C(F)(F)F)C(F)(F)F   Inactive   \n",
              "2  [H]/N=c1\\c2ncn([C@@H]3O[C@H](CO[P@](=O)(O)O[P@...     Active   \n",
              "3  CC(C)Nc1cccnc1N1CCN(C(=O)c2cc3cc(NS(C)(=O)=O)c...   Inactive   \n",
              "4  Nc1nc(=O)c2c([nH]1)NC[C@H](CNc1ccc(C(=O)N[C@@H...   Inactive   \n",
              "\n",
              "   active_probability database_id_x database_id_y  \\\n",
              "0        6.999738e-06       DB00114       DB00114   \n",
              "1        1.606359e-04       DB01236       DB01236   \n",
              "2        2.960842e-01       DB01661       DB01661   \n",
              "3        3.756666e-08       DB00705       DB00705   \n",
              "4        4.423987e-07       DB00116       DB00116   \n",
              "\n",
              "                                              smiles  \\\n",
              "0                       Cc1ncc(COP(=O)(O)O)c(C=O)c1O   \n",
              "1                             FCOC(C(F)(F)F)C(F)(F)F   \n",
              "2  [H]/N=c1\\c2ncn([C@@H]3O[C@H](CO[P@](=O)(O)O[P@...   \n",
              "3  CC(C)Nc1cccnc1N1CCN(C(=O)c2cc3cc(NS(C)(=O)=O)c...   \n",
              "4  Nc1nc(=O)c2c([nH]1)NC[C@H](CNc1ccc(C(=O)N[C@@H...   \n",
              "\n",
              "                                drug_groups molecular_weight  \\\n",
              "0  approved; investigational; nutraceutical         247.1419   \n",
              "1                    approved; vet_approved         200.0548   \n",
              "2                              experimental         719.2755   \n",
              "3                                  approved          456.561   \n",
              "4                             nutraceutical         445.4292   \n",
              "\n",
              "                  generic_name  ... Heavy Atoms HBA (Lipinski) HBD (Lipinski)  \\\n",
              "0          Pyridoxal phosphate  ...          16              7              3   \n",
              "1                  Sevoflurane  ...          12              1              0   \n",
              "2  1-(5-phospho-D-ribosyl)-ATP  ...         NaN            NaN            NaN   \n",
              "3                  Delavirdine  ...          32              9              3   \n",
              "4         Tetrahydrofolic acid  ...         NaN            NaN            NaN   \n",
              "\n",
              "  #RO5 Violations (Lipinski) Molecular Weight (Monoisotopic)  \\\n",
              "0                          0                        247.0246   \n",
              "1                          0                        200.0072   \n",
              "2                        NaN                             NaN   \n",
              "3                          0                        456.1944   \n",
              "4                        NaN                             NaN   \n",
              "\n",
              "  Molecular Species  Molecular Formula  \\\n",
              "0              ACID          C8H10NO6P   \n",
              "1           NEUTRAL            C4H3F7O   \n",
              "2               NaN                NaN   \n",
              "3           NEUTRAL        C22H28N6O3S   \n",
              "4               NaN                NaN   \n",
              "\n",
              "                                              Smiles  Unnamed: 32  Unnamed: 33  \n",
              "0                       Cc1ncc(COP(=O)(O)O)c(C=O)c1O          NaN          NaN  \n",
              "1                             FCOC(C(F)(F)F)C(F)(F)F          NaN          NaN  \n",
              "2                                                NaN          NaN          NaN  \n",
              "3  CC(C)Nc1cccnc1N1CCN(C(=O)c2cc3cc(NS(C)(=O)=O)c...          NaN          NaN  \n",
              "4                                                NaN          NaN          NaN  \n",
              "\n",
              "[5 rows x 45 columns]"
            ]
          },
          "execution_count": 137,
          "metadata": {},
          "output_type": "execute_result"
        }
      ],
      "source": [
        "## join chembl to drugbank\n",
        "joined_chembl=joined_drugbank.merge(chembl_df, how='left', left_on='uncharged_inchikey', right_on='inchikey')\n",
        "joined_chembl.drop(columns=['inchikey_y', None], errors='ignore', inplace=True)\n",
        "joined_chembl.rename(columns={'inchikey_x': 'inchikey'}, inplace=True)\n",
        "print(f\"Length of drugbank after joining to Chembl: {len(joined_chembl):,}\")\n",
        "joined_chembl.head()"
      ]
    },
    {
      "cell_type": "code",
      "execution_count": 138,
      "id": "8f3ba67e",
      "metadata": {},
      "outputs": [
        {
          "data": {
            "text/plain": [
              "Index(['generic_name_pubchem', 'Synonyms_pubchem', 'molecular_weight_pubchem',\n",
              "       'Polar Surface Area_pubchem', 'CX LogP_pubchem', 'HBD_pubchem',\n",
              "       'HBA_pubchem', '#Rotatable Bonds_pubchem', 'inchikey_pubchem'],\n",
              "      dtype='object')"
            ]
          },
          "execution_count": 138,
          "metadata": {},
          "output_type": "execute_result"
        }
      ],
      "source": [
        "pubchem_metadata.columns"
      ]
    },
    {
      "cell_type": "markdown",
      "id": "375758e7",
      "metadata": {},
      "source": [
        "### Join To Pubchem, will fill in missing properties from Chembl"
      ]
    },
    {
      "cell_type": "code",
      "execution_count": 139,
      "id": "6569e2d6",
      "metadata": {},
      "outputs": [],
      "source": [
        "joined_pubchem=joined_chembl.merge(pubchem_metadata, how='left', \n",
        "                                    left_on='inchikey', right_on='inchikey_pubchem')"
      ]
    },
    {
      "cell_type": "code",
      "execution_count": 140,
      "id": "f6f7d598",
      "metadata": {},
      "outputs": [],
      "source": [
        "def fill_with_pubchem(df: pd.DataFrame) -> pd.DataFrame:\n",
        "\n",
        "        ## prioritize chembl properties, if null, slide the pubchem data into the cell\n",
        "    cols_to_fill=[\"Polar Surface Area\", \"molecular_weight\", \"CX LogP\", \"HBD\", \"HBA\", \"#Rotatable Bonds\"]\n",
        "\n",
        "    ## remaining missing values\n",
        "    for col in cols_to_fill:\n",
        "        print(f\"{col} : Number of nulls: {df[col].isnull().sum():,}\")\n",
        "\n",
        "    ## iterate through columns\n",
        "    for col in cols_to_fill:\n",
        "        df[col]=np.where((df[col]=='None') | (df[col].isnull()),\n",
        "                                    df[col+\"_pubchem\"],\n",
        "                                    df[col]\n",
        "                                    )   \n",
        "\n",
        "    # drop columns from pubchem after using to fill in missing data\n",
        "    cols_to_drop=[col for col in df.columns if \"_pubchem\" in col]\n",
        "    print(cols_to_drop)\n",
        "    df=df.drop(cols_to_drop, axis=1, errors='ignore')\n",
        "\n",
        "     ## remaining missing values\n",
        "    for col in cols_to_fill:\n",
        "        print(f\"{col} : Number of nulls: {df[col].isnull().sum():,}\")\n",
        "        \n",
        "    return df"
      ]
    },
    {
      "cell_type": "markdown",
      "id": "df92c3a0",
      "metadata": {},
      "source": [
        "https://fluidsbarrierscns.biomedcentral.com/articles/10.1186/s12987-020-00230-3#:~:text=Molecular%20weight%20is%20another%20crucial,to%20lipid%20solubility%20%5B117%5D.\n",
        "\n",
        "Also, a high polar surface area (PSA) greater than 80 Å2, and a tendency to form more than six hydrogen bonds are considered a limiting factor for the entry of compounds into the CNS. "
      ]
    },
    {
      "cell_type": "code",
      "execution_count": 141,
      "id": "ea53c506",
      "metadata": {},
      "outputs": [],
      "source": [
        "def format_to_floats(df: pd.DataFrame, column_name: str) -> pd.DataFrame:\n",
        "    \"\"\"\n",
        "    Remove rows with null or 'None' values from a specified column in a DataFrame,\n",
        "    and convert the column to a float data type.\n",
        "    \"\"\"\n",
        "    df[column_name]=df[column_name].replace(\"None\", np.nan)\n",
        "    # df[column_name].replace(None, np.nan, inplace=True)\n",
        "    df[column_name]=df[column_name].astype(float)\n",
        "\n",
        "    return df"
      ]
    },
    {
      "cell_type": "code",
      "execution_count": 142,
      "id": "702ef54b",
      "metadata": {},
      "outputs": [],
      "source": [
        "### Pre-filtering nominations - just save Drugbank with Molecular Properties"
      ]
    },
    {
      "cell_type": "markdown",
      "id": "c7173b4a",
      "metadata": {},
      "source": [
        "### Filter Nominations by Chemical Properties\n",
        "\n",
        "Chemical properties are derived from compounds without salts or charges"
      ]
    },
    {
      "cell_type": "code",
      "execution_count": 143,
      "id": "45c33728",
      "metadata": {},
      "outputs": [],
      "source": [
        "def flag_compounds(df: pd.DataFrame) -> pd.DataFrame():\n",
        "\n",
        "    ## polar surface area\n",
        "    df=format_to_floats(df, 'Polar Surface Area')\n",
        "    df['psa_flag']=np.where((df['Polar Surface Area']<=80) |(df['Polar Surface Area'].isnull()) , 0, 1) \n",
        "\n",
        "    ## molecular weight\n",
        "    df=format_to_floats(df, \"Molecular Weight\")\n",
        "    df['mw_flag']=np.where((df['Molecular Weight']<600)|(df['Molecular Weight'].isnull()), 0, 1)\n",
        "\n",
        "    ## Basic pKa (verify from papers)\n",
        "    df=format_to_floats(df, \"CX Basic pKa\")\n",
        "    df['cx_basic_flag']=np.where((df['CX Basic pKa']>7) & (df['CX Basic pKa']<11), 0, 1)  \n",
        "    df['cx_basic_flag']=np.where(df['CX Basic pKa'].isnull(), 0, df['cx_basic_flag'])\n",
        "\n",
        "    ## Acidic PkA (want greater than 6)\n",
        "    df=format_to_floats(df, \"CX Acidic pKa\")\n",
        "    df['cx_acidic_flag']=np.where((df['CX Acidic pKa']>6) | (df['CX Acidic pKa'].isnull()), 0, 1)                            \n",
        "\n",
        "    ## LogD\n",
        "    df=format_to_floats(df, \"CX LogD\")\n",
        "    df['logd_flag']=np.where((df['CX LogD']>0) & (df['CX LogD']<4), 0, 1)\n",
        "    df['logd_flag']=np.where(df['logd_flag'].isnull(), 0, df['logd_flag'])\n",
        "\n",
        "    ## LogP\n",
        "    df=format_to_floats(df, \"CX LogP\")\n",
        "    df['logp_flag']=np.where((df['CX LogP'] > 1.5) & (df['CX LogP']<5), 0, 1)\n",
        "    df['logp_flag']=np.where(df['logp_flag'].isnull(), 0, df['logp_flag'])\n",
        "\n",
        "    ## Hydrogen Bond Acceptors and Donors\n",
        "    df=format_to_floats(df, \"HBA\")\n",
        "    df=format_to_floats(df, \"HBD\")\n",
        "\n",
        "    df['hbd_flag']=np.where((df['HBD'] <=6), 0, 1)\n",
        "    df['hba_flag']=np.where((df['HBA'] <=6), 0, 1)\n",
        "\n",
        "    df['hba_flag']=np.where((df['HBA'].isnull()), 0, df['hba_flag'])\n",
        "    df['hbd_flag']=np.where((df['HBD'].isnull()), 0, df['hbd_flag'])\n",
        "\n",
        "    ### Rotatable Bonds\n",
        "    df=format_to_floats(df, \"#Rotatable Bonds\")\n",
        "    df['rotation_flag']=np.where((df['#Rotatable Bonds']<5) | (df['#Rotatable Bonds'].isnull()), 0, 1)\n",
        "\n",
        "    return df"
      ]
    },
    {
      "cell_type": "code",
      "execution_count": 144,
      "id": "9c9e379f",
      "metadata": {},
      "outputs": [
        {
          "name": "stdout",
          "output_type": "stream",
          "text": [
            "Polar Surface Area : Number of nulls: 2,639\n",
            "molecular_weight : Number of nulls: 0\n",
            "CX LogP : Number of nulls: 2,639\n",
            "HBD : Number of nulls: 2,639\n",
            "HBA : Number of nulls: 2,639\n",
            "#Rotatable Bonds : Number of nulls: 2,639\n",
            "['generic_name_pubchem', 'Synonyms_pubchem', 'molecular_weight_pubchem', 'Polar Surface Area_pubchem', 'CX LogP_pubchem', 'HBD_pubchem', 'HBA_pubchem', '#Rotatable Bonds_pubchem', 'inchikey_pubchem']\n",
            "Polar Surface Area : Number of nulls: 13\n",
            "molecular_weight : Number of nulls: 0\n",
            "CX LogP : Number of nulls: 23\n",
            "HBD : Number of nulls: 13\n",
            "HBA : Number of nulls: 13\n",
            "#Rotatable Bonds : Number of nulls: 13\n"
          ]
        }
      ],
      "source": [
        "joined_pubchem=fill_with_pubchem(joined_pubchem)"
      ]
    },
    {
      "cell_type": "code",
      "execution_count": 145,
      "id": "b4d6a312",
      "metadata": {},
      "outputs": [
        {
          "data": {
            "text/plain": [
              "0        1.68\n",
              "1        None\n",
              "2         NaN\n",
              "3        9.39\n",
              "4         NaN\n",
              "        ...  \n",
              "8385      NaN\n",
              "8386      NaN\n",
              "8387      NaN\n",
              "8388    11.05\n",
              "8389      NaN\n",
              "Name: CX Acidic pKa, Length: 8390, dtype: object"
            ]
          },
          "execution_count": 145,
          "metadata": {},
          "output_type": "execute_result"
        }
      ],
      "source": [
        "joined_pubchem['CX Acidic pKa']"
      ]
    },
    {
      "cell_type": "code",
      "execution_count": 146,
      "id": "6fb4d380",
      "metadata": {},
      "outputs": [
        {
          "data": {
            "text/html": [
              "<div>\n",
              "<style scoped>\n",
              "    .dataframe tbody tr th:only-of-type {\n",
              "        vertical-align: middle;\n",
              "    }\n",
              "\n",
              "    .dataframe tbody tr th {\n",
              "        vertical-align: top;\n",
              "    }\n",
              "\n",
              "    .dataframe thead th {\n",
              "        text-align: right;\n",
              "    }\n",
              "</style>\n",
              "<table border=\"1\" class=\"dataframe\">\n",
              "  <thead>\n",
              "    <tr style=\"text-align: right;\">\n",
              "      <th></th>\n",
              "      <th>inchikey</th>\n",
              "      <th>uncharged_smiles</th>\n",
              "      <th>prediction</th>\n",
              "      <th>active_probability</th>\n",
              "      <th>database_id_x</th>\n",
              "      <th>database_id_y</th>\n",
              "      <th>smiles</th>\n",
              "      <th>drug_groups</th>\n",
              "      <th>molecular_weight</th>\n",
              "      <th>generic_name</th>\n",
              "      <th>...</th>\n",
              "      <th>Heavy Atoms</th>\n",
              "      <th>HBA (Lipinski)</th>\n",
              "      <th>HBD (Lipinski)</th>\n",
              "      <th>#RO5 Violations (Lipinski)</th>\n",
              "      <th>Molecular Weight (Monoisotopic)</th>\n",
              "      <th>Molecular Species</th>\n",
              "      <th>Molecular Formula</th>\n",
              "      <th>Smiles</th>\n",
              "      <th>Unnamed: 32</th>\n",
              "      <th>Unnamed: 33</th>\n",
              "    </tr>\n",
              "  </thead>\n",
              "  <tbody>\n",
              "    <tr>\n",
              "      <th>0</th>\n",
              "      <td>NGVDGCNFYWLIFO-UHFFFAOYSA-N</td>\n",
              "      <td>Cc1ncc(COP(=O)(O)O)c(C=O)c1O</td>\n",
              "      <td>Inactive</td>\n",
              "      <td>6.999738e-06</td>\n",
              "      <td>DB00114</td>\n",
              "      <td>DB00114</td>\n",
              "      <td>Cc1ncc(COP(=O)(O)O)c(C=O)c1O</td>\n",
              "      <td>approved; investigational; nutraceutical</td>\n",
              "      <td>247.1419</td>\n",
              "      <td>Pyridoxal phosphate</td>\n",
              "      <td>...</td>\n",
              "      <td>16</td>\n",
              "      <td>7</td>\n",
              "      <td>3</td>\n",
              "      <td>0</td>\n",
              "      <td>247.0246</td>\n",
              "      <td>ACID</td>\n",
              "      <td>C8H10NO6P</td>\n",
              "      <td>Cc1ncc(COP(=O)(O)O)c(C=O)c1O</td>\n",
              "      <td>NaN</td>\n",
              "      <td>NaN</td>\n",
              "    </tr>\n",
              "    <tr>\n",
              "      <th>1</th>\n",
              "      <td>DFEYYRMXOJXZRJ-UHFFFAOYSA-N</td>\n",
              "      <td>FCOC(C(F)(F)F)C(F)(F)F</td>\n",
              "      <td>Inactive</td>\n",
              "      <td>1.606359e-04</td>\n",
              "      <td>DB01236</td>\n",
              "      <td>DB01236</td>\n",
              "      <td>FCOC(C(F)(F)F)C(F)(F)F</td>\n",
              "      <td>approved; vet_approved</td>\n",
              "      <td>200.0548</td>\n",
              "      <td>Sevoflurane</td>\n",
              "      <td>...</td>\n",
              "      <td>12</td>\n",
              "      <td>1</td>\n",
              "      <td>0</td>\n",
              "      <td>0</td>\n",
              "      <td>200.0072</td>\n",
              "      <td>NEUTRAL</td>\n",
              "      <td>C4H3F7O</td>\n",
              "      <td>FCOC(C(F)(F)F)C(F)(F)F</td>\n",
              "      <td>NaN</td>\n",
              "      <td>NaN</td>\n",
              "    </tr>\n",
              "    <tr>\n",
              "      <th>2</th>\n",
              "      <td>RKNHJBVBFHDXGR-MRUDJCSFSA-N</td>\n",
              "      <td>[H]/N=c1\\c2ncn([C@@H]3O[C@H](CO[P@](=O)(O)O[P@...</td>\n",
              "      <td>Active</td>\n",
              "      <td>2.960842e-01</td>\n",
              "      <td>DB01661</td>\n",
              "      <td>DB01661</td>\n",
              "      <td>[H]/N=c1\\c2ncn([C@@H]3O[C@H](CO[P@](=O)(O)O[P@...</td>\n",
              "      <td>experimental</td>\n",
              "      <td>719.2755</td>\n",
              "      <td>1-(5-phospho-D-ribosyl)-ATP</td>\n",
              "      <td>...</td>\n",
              "      <td>NaN</td>\n",
              "      <td>NaN</td>\n",
              "      <td>NaN</td>\n",
              "      <td>NaN</td>\n",
              "      <td>NaN</td>\n",
              "      <td>NaN</td>\n",
              "      <td>NaN</td>\n",
              "      <td>NaN</td>\n",
              "      <td>NaN</td>\n",
              "      <td>NaN</td>\n",
              "    </tr>\n",
              "    <tr>\n",
              "      <th>3</th>\n",
              "      <td>WHBIGIKBNXZKFE-UHFFFAOYSA-N</td>\n",
              "      <td>CC(C)Nc1cccnc1N1CCN(C(=O)c2cc3cc(NS(C)(=O)=O)c...</td>\n",
              "      <td>Inactive</td>\n",
              "      <td>3.756666e-08</td>\n",
              "      <td>DB00705</td>\n",
              "      <td>DB00705</td>\n",
              "      <td>CC(C)Nc1cccnc1N1CCN(C(=O)c2cc3cc(NS(C)(=O)=O)c...</td>\n",
              "      <td>approved</td>\n",
              "      <td>456.561</td>\n",
              "      <td>Delavirdine</td>\n",
              "      <td>...</td>\n",
              "      <td>32</td>\n",
              "      <td>9</td>\n",
              "      <td>3</td>\n",
              "      <td>0</td>\n",
              "      <td>456.1944</td>\n",
              "      <td>NEUTRAL</td>\n",
              "      <td>C22H28N6O3S</td>\n",
              "      <td>CC(C)Nc1cccnc1N1CCN(C(=O)c2cc3cc(NS(C)(=O)=O)c...</td>\n",
              "      <td>NaN</td>\n",
              "      <td>NaN</td>\n",
              "    </tr>\n",
              "    <tr>\n",
              "      <th>4</th>\n",
              "      <td>MSTNYGQPCMXVAQ-KIYNQFGBSA-N</td>\n",
              "      <td>Nc1nc(=O)c2c([nH]1)NC[C@H](CNc1ccc(C(=O)N[C@@H...</td>\n",
              "      <td>Inactive</td>\n",
              "      <td>4.423987e-07</td>\n",
              "      <td>DB00116</td>\n",
              "      <td>DB00116</td>\n",
              "      <td>Nc1nc(=O)c2c([nH]1)NC[C@H](CNc1ccc(C(=O)N[C@@H...</td>\n",
              "      <td>nutraceutical</td>\n",
              "      <td>445.4292</td>\n",
              "      <td>Tetrahydrofolic acid</td>\n",
              "      <td>...</td>\n",
              "      <td>NaN</td>\n",
              "      <td>NaN</td>\n",
              "      <td>NaN</td>\n",
              "      <td>NaN</td>\n",
              "      <td>NaN</td>\n",
              "      <td>NaN</td>\n",
              "      <td>NaN</td>\n",
              "      <td>NaN</td>\n",
              "      <td>NaN</td>\n",
              "      <td>NaN</td>\n",
              "    </tr>\n",
              "  </tbody>\n",
              "</table>\n",
              "<p>5 rows × 45 columns</p>\n",
              "</div>"
            ],
            "text/plain": [
              "                      inchikey  \\\n",
              "0  NGVDGCNFYWLIFO-UHFFFAOYSA-N   \n",
              "1  DFEYYRMXOJXZRJ-UHFFFAOYSA-N   \n",
              "2  RKNHJBVBFHDXGR-MRUDJCSFSA-N   \n",
              "3  WHBIGIKBNXZKFE-UHFFFAOYSA-N   \n",
              "4  MSTNYGQPCMXVAQ-KIYNQFGBSA-N   \n",
              "\n",
              "                                    uncharged_smiles prediction  \\\n",
              "0                       Cc1ncc(COP(=O)(O)O)c(C=O)c1O   Inactive   \n",
              "1                             FCOC(C(F)(F)F)C(F)(F)F   Inactive   \n",
              "2  [H]/N=c1\\c2ncn([C@@H]3O[C@H](CO[P@](=O)(O)O[P@...     Active   \n",
              "3  CC(C)Nc1cccnc1N1CCN(C(=O)c2cc3cc(NS(C)(=O)=O)c...   Inactive   \n",
              "4  Nc1nc(=O)c2c([nH]1)NC[C@H](CNc1ccc(C(=O)N[C@@H...   Inactive   \n",
              "\n",
              "   active_probability database_id_x database_id_y  \\\n",
              "0        6.999738e-06       DB00114       DB00114   \n",
              "1        1.606359e-04       DB01236       DB01236   \n",
              "2        2.960842e-01       DB01661       DB01661   \n",
              "3        3.756666e-08       DB00705       DB00705   \n",
              "4        4.423987e-07       DB00116       DB00116   \n",
              "\n",
              "                                              smiles  \\\n",
              "0                       Cc1ncc(COP(=O)(O)O)c(C=O)c1O   \n",
              "1                             FCOC(C(F)(F)F)C(F)(F)F   \n",
              "2  [H]/N=c1\\c2ncn([C@@H]3O[C@H](CO[P@](=O)(O)O[P@...   \n",
              "3  CC(C)Nc1cccnc1N1CCN(C(=O)c2cc3cc(NS(C)(=O)=O)c...   \n",
              "4  Nc1nc(=O)c2c([nH]1)NC[C@H](CNc1ccc(C(=O)N[C@@H...   \n",
              "\n",
              "                                drug_groups molecular_weight  \\\n",
              "0  approved; investigational; nutraceutical         247.1419   \n",
              "1                    approved; vet_approved         200.0548   \n",
              "2                              experimental         719.2755   \n",
              "3                                  approved          456.561   \n",
              "4                             nutraceutical         445.4292   \n",
              "\n",
              "                  generic_name  ... Heavy Atoms HBA (Lipinski) HBD (Lipinski)  \\\n",
              "0          Pyridoxal phosphate  ...          16              7              3   \n",
              "1                  Sevoflurane  ...          12              1              0   \n",
              "2  1-(5-phospho-D-ribosyl)-ATP  ...         NaN            NaN            NaN   \n",
              "3                  Delavirdine  ...          32              9              3   \n",
              "4         Tetrahydrofolic acid  ...         NaN            NaN            NaN   \n",
              "\n",
              "  #RO5 Violations (Lipinski) Molecular Weight (Monoisotopic)  \\\n",
              "0                          0                        247.0246   \n",
              "1                          0                        200.0072   \n",
              "2                        NaN                             NaN   \n",
              "3                          0                        456.1944   \n",
              "4                        NaN                             NaN   \n",
              "\n",
              "  Molecular Species  Molecular Formula  \\\n",
              "0              ACID          C8H10NO6P   \n",
              "1           NEUTRAL            C4H3F7O   \n",
              "2               NaN                NaN   \n",
              "3           NEUTRAL        C22H28N6O3S   \n",
              "4               NaN                NaN   \n",
              "\n",
              "                                              Smiles  Unnamed: 32  Unnamed: 33  \n",
              "0                       Cc1ncc(COP(=O)(O)O)c(C=O)c1O          NaN          NaN  \n",
              "1                             FCOC(C(F)(F)F)C(F)(F)F          NaN          NaN  \n",
              "2                                                NaN          NaN          NaN  \n",
              "3  CC(C)Nc1cccnc1N1CCN(C(=O)c2cc3cc(NS(C)(=O)=O)c...          NaN          NaN  \n",
              "4                                                NaN          NaN          NaN  \n",
              "\n",
              "[5 rows x 45 columns]"
            ]
          },
          "execution_count": 146,
          "metadata": {},
          "output_type": "execute_result"
        }
      ],
      "source": [
        "joined_pubchem.head()"
      ]
    },
    {
      "cell_type": "code",
      "execution_count": 147,
      "id": "2dcd00b8",
      "metadata": {},
      "outputs": [],
      "source": [
        "\n",
        "joined_pubchem.drop(columns=[col for col in joined_pubchem.columns if \"Unna\" in col],\n",
        "inplace=True)\n",
        "\n",
        "joined_pubchem.drop(columns=['Molecular Weight (Monoisotopic)', 'Smiles', 'HBA (Lipinski)',\n",
        "'HBD (Lipinski)'], inplace=True, errors='ignore')"
      ]
    },
    {
      "cell_type": "code",
      "execution_count": 148,
      "id": "83d7a739",
      "metadata": {},
      "outputs": [],
      "source": [
        "# joined_pubchem.to_csv(\"drugbank_w_molecular_properties_2023Dec26.csv\", index=False)\n",
        "# joined_pubchem.columns"
      ]
    },
    {
      "cell_type": "code",
      "execution_count": 149,
      "id": "a290d9f8",
      "metadata": {},
      "outputs": [],
      "source": [
        "# joined_pubchem=pd.read_csv(\"drugbank_w_molecular_properties_2023Dec26.csv\")"
      ]
    },
    {
      "cell_type": "code",
      "execution_count": 150,
      "id": "20f6c273",
      "metadata": {},
      "outputs": [
        {
          "data": {
            "text/plain": [
              "Index(['inchikey', 'uncharged_smiles', 'prediction', 'active_probability',\n",
              "       'database_id_x', 'database_id_y', 'smiles', 'drug_groups',\n",
              "       'molecular_weight', 'generic_name', 'molecule', 'uncharged_inchikey',\n",
              "       'ChEMBL ID', 'Name', 'Synonyms', 'Type', 'Max Phase',\n",
              "       'Molecular Weight', 'Targets', 'Bioactivities', 'AlogP',\n",
              "       'Polar Surface Area', 'HBA', 'HBD', '#RO5 Violations',\n",
              "       '#Rotatable Bonds', 'Passes Ro3', 'QED Weighted', 'CX Acidic pKa',\n",
              "       'CX Basic pKa', 'CX LogP', 'CX LogD', 'Aromatic Rings',\n",
              "       'Structure Type', 'Inorganic Flag', 'Heavy Atoms',\n",
              "       '#RO5 Violations (Lipinski)', 'Molecular Species', 'Molecular Formula'],\n",
              "      dtype='object')"
            ]
          },
          "execution_count": 150,
          "metadata": {},
          "output_type": "execute_result"
        }
      ],
      "source": [
        "joined_pubchem.columns"
      ]
    },
    {
      "cell_type": "markdown",
      "id": "2848ba22",
      "metadata": {},
      "source": []
    },
    {
      "cell_type": "code",
      "execution_count": 151,
      "id": "dcf31abb",
      "metadata": {},
      "outputs": [],
      "source": [
        "preds_labeled=flag_compounds(joined_pubchem)"
      ]
    },
    {
      "cell_type": "code",
      "execution_count": 152,
      "id": "f0529235",
      "metadata": {},
      "outputs": [
        {
          "data": {
            "text/plain": [
              "Index(['inchikey', 'uncharged_smiles', 'prediction', 'active_probability',\n",
              "       'database_id_x', 'database_id_y', 'smiles', 'drug_groups',\n",
              "       'molecular_weight', 'generic_name', 'molecule', 'uncharged_inchikey',\n",
              "       'ChEMBL ID', 'Name', 'Synonyms', 'Type', 'Max Phase',\n",
              "       'Molecular Weight', 'Targets', 'Bioactivities', 'AlogP',\n",
              "       'Polar Surface Area', 'HBA', 'HBD', '#RO5 Violations',\n",
              "       '#Rotatable Bonds', 'Passes Ro3', 'QED Weighted', 'CX Acidic pKa',\n",
              "       'CX Basic pKa', 'CX LogP', 'CX LogD', 'Aromatic Rings',\n",
              "       'Structure Type', 'Inorganic Flag', 'Heavy Atoms',\n",
              "       '#RO5 Violations (Lipinski)', 'Molecular Species', 'Molecular Formula',\n",
              "       'psa_flag', 'mw_flag', 'cx_basic_flag', 'cx_acidic_flag', 'logd_flag',\n",
              "       'logp_flag', 'hbd_flag', 'hba_flag', 'rotation_flag'],\n",
              "      dtype='object')"
            ]
          },
          "execution_count": 152,
          "metadata": {},
          "output_type": "execute_result"
        }
      ],
      "source": [
        "preds_labeled.columns"
      ]
    },
    {
      "cell_type": "markdown",
      "id": "203385f4",
      "metadata": {},
      "source": [
        "https://fluidsbarrierscns.biomedcentral.com/articles/10.1186/s12987-020-00230-3#:~:text=Molecular%20weight%20is%20another%20crucial,to%20lipid%20solubility%20%5B117%5D.\n",
        "\n",
        "The presence of rotatable bonds in the molecule and a high affinity of binding to plasma proteins with a low off-rate can also significantly reduce CNS penetration."
      ]
    },
    {
      "cell_type": "code",
      "execution_count": 153,
      "id": "9ffa1a96",
      "metadata": {},
      "outputs": [],
      "source": [
        "## identify columns to mark total number of flags\n",
        "\n",
        "relevant_cols=[\"generic_name\", \"Molecular Weight\", \"Polar Surface Area\", \"CX Acidic pKa\", \"CX Basic pKa\", 'CX LogD','CX LogP']"
      ]
    },
    {
      "cell_type": "code",
      "execution_count": 154,
      "id": "9579f5a5",
      "metadata": {},
      "outputs": [
        {
          "data": {
            "text/plain": [
              "Index(['inchikey', 'uncharged_smiles', 'prediction', 'active_probability',\n",
              "       'database_id_x', 'database_id_y', 'smiles', 'drug_groups',\n",
              "       'molecular_weight', 'generic_name', 'molecule', 'uncharged_inchikey',\n",
              "       'ChEMBL ID', 'Name', 'Synonyms', 'Type', 'Max Phase',\n",
              "       'Molecular Weight', 'Targets', 'Bioactivities', 'AlogP',\n",
              "       'Polar Surface Area', 'HBA', 'HBD', '#RO5 Violations',\n",
              "       '#Rotatable Bonds', 'Passes Ro3', 'QED Weighted', 'CX Acidic pKa',\n",
              "       'CX Basic pKa', 'CX LogP', 'CX LogD', 'Aromatic Rings',\n",
              "       'Structure Type', 'Inorganic Flag', 'Heavy Atoms',\n",
              "       '#RO5 Violations (Lipinski)', 'Molecular Species', 'Molecular Formula',\n",
              "       'psa_flag', 'mw_flag', 'cx_basic_flag', 'cx_acidic_flag', 'logd_flag',\n",
              "       'logp_flag', 'hbd_flag', 'hba_flag', 'rotation_flag'],\n",
              "      dtype='object')"
            ]
          },
          "execution_count": 154,
          "metadata": {},
          "output_type": "execute_result"
        }
      ],
      "source": [
        "preds_labeled.columns"
      ]
    },
    {
      "cell_type": "code",
      "execution_count": 155,
      "id": "2aa41397",
      "metadata": {},
      "outputs": [
        {
          "data": {
            "text/html": [
              "<div>\n",
              "<style scoped>\n",
              "    .dataframe tbody tr th:only-of-type {\n",
              "        vertical-align: middle;\n",
              "    }\n",
              "\n",
              "    .dataframe tbody tr th {\n",
              "        vertical-align: top;\n",
              "    }\n",
              "\n",
              "    .dataframe thead th {\n",
              "        text-align: right;\n",
              "    }\n",
              "</style>\n",
              "<table border=\"1\" class=\"dataframe\">\n",
              "  <thead>\n",
              "    <tr style=\"text-align: right;\">\n",
              "      <th></th>\n",
              "      <th>generic_name</th>\n",
              "      <th>active_probability</th>\n",
              "      <th>drug_groups</th>\n",
              "      <th>cx_acidic_flag</th>\n",
              "      <th>generic_name</th>\n",
              "      <th>Molecular Weight</th>\n",
              "      <th>Polar Surface Area</th>\n",
              "      <th>CX Acidic pKa</th>\n",
              "      <th>CX Basic pKa</th>\n",
              "      <th>CX LogD</th>\n",
              "      <th>CX LogP</th>\n",
              "    </tr>\n",
              "  </thead>\n",
              "  <tbody>\n",
              "    <tr>\n",
              "      <th>5953</th>\n",
              "      <td>Mardepodect</td>\n",
              "      <td>0.000325</td>\n",
              "      <td>investigational</td>\n",
              "      <td>0</td>\n",
              "      <td>Mardepodect</td>\n",
              "      <td>392.46</td>\n",
              "      <td>52.83</td>\n",
              "      <td>NaN</td>\n",
              "      <td>4.31</td>\n",
              "      <td>4.67</td>\n",
              "      <td>4.67</td>\n",
              "    </tr>\n",
              "  </tbody>\n",
              "</table>\n",
              "</div>"
            ],
            "text/plain": [
              "     generic_name  active_probability      drug_groups  cx_acidic_flag  \\\n",
              "5953  Mardepodect            0.000325  investigational               0   \n",
              "\n",
              "     generic_name  Molecular Weight  Polar Surface Area  CX Acidic pKa  \\\n",
              "5953  Mardepodect            392.46               52.83            NaN   \n",
              "\n",
              "      CX Basic pKa  CX LogD  CX LogP  \n",
              "5953          4.31     4.67     4.67  "
            ]
          },
          "execution_count": 155,
          "metadata": {},
          "output_type": "execute_result"
        }
      ],
      "source": [
        "preds_labeled[preds_labeled['generic_name'].fillna(\"N\").str.contains(\"Mard\")][[\"generic_name\", \"active_probability\", \"drug_groups\", \"cx_acidic_flag\"]+relevant_cols]"
      ]
    },
    {
      "cell_type": "code",
      "execution_count": 156,
      "id": "34030310",
      "metadata": {},
      "outputs": [],
      "source": [
        "preds_labeled['Targets'].replace(\"\", np.nan, inplace=True)\n",
        "preds_labeled=format_to_floats(preds_labeled, 'Targets')\n",
        "# preds_labeled[preds_labeled['Targets'].isnull()]"
      ]
    },
    {
      "cell_type": "markdown",
      "id": "09ecc621",
      "metadata": {},
      "source": [
        "### External List of CNS Drugs - Evaluate Filters"
      ]
    },
    {
      "cell_type": "code",
      "execution_count": 157,
      "id": "79fa84f4",
      "metadata": {},
      "outputs": [],
      "source": [
        "\n",
        "# https://www.cureffi.org/2013/10/04/list-of-fda-approved-drugs-and-cns-drugs-with-smiles/\n",
        "drugs_data_set = pd.read_csv('/home/paperspace/Desktop/DL_Project/data/external_literature_drugs_list.txt', delimiter = \"\\t\")\n",
        "\n",
        "only_cns=drugs_data_set[drugs_data_set['cns_drug']==True]\n",
        "only_cns=only_cns[~only_cns['smiles'].isnull()]\n",
        "only_cns['canonical_smiles'], only_cns['cleaned_smiles'], only_cns['cleaned_charge'] = zip(*only_cns['smiles'].apply(lambda x: strip_salts_neutralize(x)))\n",
        "only_cns=only_cns.dropna(subset='cleaned_smiles')\n",
        "only_cns['uncharged_inchikey']=only_cns['cleaned_smiles'].apply(lambda x: Chem.MolToInchiKey(Chem.MolFromSmiles(x)))\n",
        "clear_output()\n"
      ]
    },
    {
      "cell_type": "code",
      "execution_count": 158,
      "id": "de0576b9",
      "metadata": {},
      "outputs": [
        {
          "name": "stdout",
          "output_type": "stream",
          "text": [
            "Number of CNS drugs: 219\n",
            "Number of compounds which changed after processing: 5\n"
          ]
        }
      ],
      "source": [
        "print(f\"Number of CNS drugs: {len(only_cns)}\")\n",
        "now_diff=(only_cns['canonical_smiles']!=only_cns['cleaned_smiles']).sum()\n",
        "print(f\"Number of compounds which changed after processing: {now_diff}\")"
      ]
    },
    {
      "cell_type": "code",
      "execution_count": 159,
      "id": "0f3db7f6",
      "metadata": {},
      "outputs": [
        {
          "name": "stdout",
          "output_type": "stream",
          "text": [
            "Number of distinct CNS Drugs: 217\n"
          ]
        }
      ],
      "source": [
        "only_cns[only_cns['uncharged_inchikey'].duplicated()]\n",
        "only_cns=only_cns.dropna(subset='uncharged_inchikey')\n",
        "only_cns=only_cns[only_cns['uncharged_inchikey']!=\"\"]\n",
        "\n",
        "print(f\"Number of distinct CNS Drugs: {len(only_cns['uncharged_inchikey'].unique()):,}\")"
      ]
    },
    {
      "cell_type": "code",
      "execution_count": 160,
      "id": "74532515",
      "metadata": {},
      "outputs": [],
      "source": [
        "cns_chembl=only_cns.merge(chembl_df, how='inner', left_on='uncharged_inchikey', right_on='inchikey')\n",
        "\n",
        "## maybe don't need pubchem because everything was in chembl\n",
        "# cns_pubchem=cns_chembl.merge(pubchem_metadata, how='left', left_on='uncharged_inchikey', right_on='inchikey_pubchem')\n",
        "# cns_pubchem.rename(columns={'Molecular Weight': 'molecular_weight'}, inplace=True, errors='ignore')"
      ]
    },
    {
      "cell_type": "code",
      "execution_count": 161,
      "id": "53208558",
      "metadata": {},
      "outputs": [],
      "source": [
        "### Sum together number of flags\n",
        "preds_labeled.drop(columns=['total_flags'], inplace=True, errors='ignore')\n",
        "flag_cols=[col for col in preds_labeled.columns if \"flag\" in col]\n",
        "preds_labeled['total_flags']=preds_labeled[flag_cols].sum(axis=1)\n",
        "preds_labeled['total_flags']=preds_labeled['total_flags'].astype(int)"
      ]
    },
    {
      "cell_type": "code",
      "execution_count": 162,
      "id": "404b5bb5",
      "metadata": {},
      "outputs": [
        {
          "data": {
            "text/plain": [
              "9"
            ]
          },
          "execution_count": 162,
          "metadata": {},
          "output_type": "execute_result"
        }
      ],
      "source": [
        "len(flag_cols)"
      ]
    },
    {
      "cell_type": "code",
      "execution_count": 163,
      "id": "ce44bd99",
      "metadata": {},
      "outputs": [],
      "source": [
        "cns_flagged=flag_compounds(cns_chembl)"
      ]
    },
    {
      "cell_type": "code",
      "execution_count": 164,
      "id": "68fd8399",
      "metadata": {},
      "outputs": [],
      "source": [
        "# ### cns didn't have drug groups \n",
        "cns_flagged.drop(columns=[None], inplace=True, errors='ignore')\n",
        "cns_chembl['drug_groups']=\"NA\"\n",
        "cns_flagged=flag_compounds(cns_chembl)\n",
        "cns_flagged.drop(columns=[None], inplace=True, errors='ignore')\n",
        "cns_flagged.drop(columns=['total_flags'], inplace=True, errors='ignore')\n",
        "flag_cols=[col for col in cns_flagged.columns if \"flag\" in col]\n",
        "cns_flagged['total_flags']=cns_flagged[flag_cols].sum(axis=1)\n",
        "cns_flagged['total_flags']=cns_flagged['total_flags'].astype(int)"
      ]
    },
    {
      "cell_type": "code",
      "execution_count": 165,
      "id": "1fc312e0",
      "metadata": {},
      "outputs": [],
      "source": [
        "import matplotlib.pyplot as plt\n",
        "plt.style.use(\"ggplot\")"
      ]
    },
    {
      "cell_type": "code",
      "execution_count": 166,
      "id": "2a452417",
      "metadata": {},
      "outputs": [
        {
          "data": {
            "image/png": "[encoded data removed]",
            "text/plain": [
              "<Figure size 1200x400 with 3 Axes>"
            ]
          },
          "metadata": {},
          "output_type": "display_data"
        }
      ],
      "source": [
        "\n",
        "fig, ax = plt.subplots(1, 3, figsize=(12, 4), tight_layout=True, sharex=True)\n",
        "all_comps=preds_labeled['total_flags'].value_counts().sort_index()\n",
        "active_only=preds_labeled[preds_labeled['prediction']=='Active']['total_flags'].value_counts().sort_index()\n",
        "cns_only=cns_flagged['total_flags'].value_counts().sort_index()\n",
        "\n",
        "ax[0].bar(all_comps.index, all_comps)\n",
        "ax[0].set_title(\"All Drugbank Compounds\", size=12)\n",
        "ax[1].bar(active_only.index, active_only)\n",
        "# for title of graph\n",
        "proper_caps = 'APP' if target == 'app' else 'Tau' \n",
        "ax[1].set_title(f\"{proper_caps} Predicted Hits From Drugbank\", size=12)\n",
        "ax[2].bar(cns_only.index, cns_only)\n",
        "ax[2].set_title(\"Published CNS Compounds\", size=12)\n",
        "fig.suptitle(\"Distribution of Blood Brain Barrier Flag Counts Among DrugBank Compounds\")\n",
        "\n",
        "for subplot in ax:\n",
        "    subplot.set_xlabel(\"Number of flags\")\n",
        "    subplot.set_ylabel(\"Number of compounds\")\n",
        "    subplot.set_xticks([i for i in range(0, all_comps.index.max()+1)])\n",
        "\n",
        "plt.show()"
      ]
    },
    {
      "cell_type": "code",
      "execution_count": 167,
      "id": "9bf9050a",
      "metadata": {},
      "outputs": [],
      "source": [
        "# cns_flagged.to_excel(\"cns_drugs_property_flags_11Feb2024.xlsx\", index=False)\n",
        "preds_labeled.to_excel(f\"{target}_property_flags_11Feb2024.xlsx\", index=False)"
      ]
    },
    {
      "cell_type": "markdown",
      "id": "cfa554fe",
      "metadata": {},
      "source": [
        "### Has to be 3 or less but verify first"
      ]
    },
    {
      "cell_type": "code",
      "execution_count": 168,
      "id": "c62f23f1",
      "metadata": {},
      "outputs": [
        {
          "name": "stdout",
          "output_type": "stream",
          "text": [
            "Number of CNS compounds that appear in drugbank: 83\n"
          ]
        }
      ],
      "source": [
        "cns_in_prediction_set=preds_labeled.merge(only_cns, how='inner', on='uncharged_inchikey')\n",
        "\n",
        "print(f\"Number of CNS compounds that appear in drugbank: {len(cns_in_prediction_set)}\")"
      ]
    },
    {
      "cell_type": "code",
      "execution_count": 169,
      "id": "da9f1865",
      "metadata": {},
      "outputs": [
        {
          "data": {
            "text/plain": [
              "Inactive    81\n",
              "Active       2\n",
              "Name: prediction, dtype: int64"
            ]
          },
          "execution_count": 169,
          "metadata": {},
          "output_type": "execute_result"
        }
      ],
      "source": [
        "cns_in_prediction_set['prediction'].value_counts()"
      ]
    },
    {
      "cell_type": "code",
      "execution_count": 170,
      "id": "eef4c34d",
      "metadata": {},
      "outputs": [],
      "source": [
        "predictions_admet=pd.read_excel(\"../final_outputs/partial_data/ADMET_Lab2_active_preds.xlsx\")"
      ]
    },
    {
      "cell_type": "code",
      "execution_count": 171,
      "id": "542f28cb",
      "metadata": {},
      "outputs": [],
      "source": [
        "preds_with_admet=preds_labeled.merge(predictions_admet, how='left', on='uncharged_smiles')"
      ]
    },
    {
      "cell_type": "code",
      "execution_count": 172,
      "id": "34a2ddfd",
      "metadata": {},
      "outputs": [
        {
          "data": {
            "text/html": [
              "<div>\n",
              "<style scoped>\n",
              "    .dataframe tbody tr th:only-of-type {\n",
              "        vertical-align: middle;\n",
              "    }\n",
              "\n",
              "    .dataframe tbody tr th {\n",
              "        vertical-align: top;\n",
              "    }\n",
              "\n",
              "    .dataframe thead th {\n",
              "        text-align: right;\n",
              "    }\n",
              "</style>\n",
              "<table border=\"1\" class=\"dataframe\">\n",
              "  <thead>\n",
              "    <tr style=\"text-align: right;\">\n",
              "      <th></th>\n",
              "      <th>inchikey</th>\n",
              "      <th>uncharged_smiles</th>\n",
              "      <th>prediction</th>\n",
              "      <th>active_probability</th>\n",
              "      <th>database_id_x</th>\n",
              "      <th>database_id_y</th>\n",
              "      <th>smiles</th>\n",
              "      <th>drug_groups</th>\n",
              "      <th>molecular_weight</th>\n",
              "      <th>generic_name</th>\n",
              "      <th>...</th>\n",
              "      <th>psa_flag</th>\n",
              "      <th>mw_flag</th>\n",
              "      <th>cx_basic_flag</th>\n",
              "      <th>cx_acidic_flag</th>\n",
              "      <th>logd_flag</th>\n",
              "      <th>logp_flag</th>\n",
              "      <th>hbd_flag</th>\n",
              "      <th>hba_flag</th>\n",
              "      <th>rotation_flag</th>\n",
              "      <th>total_flags</th>\n",
              "    </tr>\n",
              "  </thead>\n",
              "  <tbody>\n",
              "    <tr>\n",
              "      <th>2</th>\n",
              "      <td>RKNHJBVBFHDXGR-MRUDJCSFSA-N</td>\n",
              "      <td>[H]/N=c1\\c2ncn([C@@H]3O[C@H](CO[P@](=O)(O)O[P@...</td>\n",
              "      <td>Active</td>\n",
              "      <td>0.296084</td>\n",
              "      <td>DB01661</td>\n",
              "      <td>DB01661</td>\n",
              "      <td>[H]/N=c1\\c2ncn([C@@H]3O[C@H](CO[P@](=O)(O)O[P@...</td>\n",
              "      <td>experimental</td>\n",
              "      <td>719.2755</td>\n",
              "      <td>1-(5-phospho-D-ribosyl)-ATP</td>\n",
              "      <td>...</td>\n",
              "      <td>1</td>\n",
              "      <td>0</td>\n",
              "      <td>0</td>\n",
              "      <td>0</td>\n",
              "      <td>1</td>\n",
              "      <td>1</td>\n",
              "      <td>1</td>\n",
              "      <td>1</td>\n",
              "      <td>1</td>\n",
              "      <td>6</td>\n",
              "    </tr>\n",
              "    <tr>\n",
              "      <th>39</th>\n",
              "      <td>XUWPJKDMEZSVTP-UOSCCXBLSA-N</td>\n",
              "      <td>C[C@@H]1O[C@H]2CC(=O)O[C@@H]2C2=C1C(=O)c1c(O)c...</td>\n",
              "      <td>Active</td>\n",
              "      <td>0.994655</td>\n",
              "      <td>DB01668</td>\n",
              "      <td>DB01668</td>\n",
              "      <td>C[C@@H]1O[C@H]2CC(=O)O[C@@H]2C2=C1C(=O)c1c(O)c...</td>\n",
              "      <td>experimental</td>\n",
              "      <td>300.2629</td>\n",
              "      <td>Nanaomycin D</td>\n",
              "      <td>...</td>\n",
              "      <td>1</td>\n",
              "      <td>0</td>\n",
              "      <td>0</td>\n",
              "      <td>0</td>\n",
              "      <td>1</td>\n",
              "      <td>1</td>\n",
              "      <td>0</td>\n",
              "      <td>0</td>\n",
              "      <td>0</td>\n",
              "      <td>3</td>\n",
              "    </tr>\n",
              "    <tr>\n",
              "      <th>41</th>\n",
              "      <td>KBPHJBAIARWVSC-RGZFRNHPSA-N</td>\n",
              "      <td>CC1=C[C@H](O)CC(C)(C)[C@H]1/C=C/C(C)=C/C=C/C(C...</td>\n",
              "      <td>Active</td>\n",
              "      <td>0.954262</td>\n",
              "      <td>DB00137</td>\n",
              "      <td>DB00137</td>\n",
              "      <td>CC1=C[C@H](O)CC(C)(C)[C@H]1/C=C/C(C)=C/C=C/C(C...</td>\n",
              "      <td>approved; investigational; nutraceutical</td>\n",
              "      <td>568.886</td>\n",
              "      <td>Lutein</td>\n",
              "      <td>...</td>\n",
              "      <td>0</td>\n",
              "      <td>0</td>\n",
              "      <td>0</td>\n",
              "      <td>0</td>\n",
              "      <td>1</td>\n",
              "      <td>1</td>\n",
              "      <td>0</td>\n",
              "      <td>0</td>\n",
              "      <td>1</td>\n",
              "      <td>3</td>\n",
              "    </tr>\n",
              "    <tr>\n",
              "      <th>42</th>\n",
              "      <td>VMWNQDUVQKEIOC-CYBMUJFWSA-N</td>\n",
              "      <td>CN1CCc2cccc3c2[C@H]1Cc1ccc(O)c(O)c1-3</td>\n",
              "      <td>Active</td>\n",
              "      <td>0.999998</td>\n",
              "      <td>DB00714</td>\n",
              "      <td>DB00714</td>\n",
              "      <td>CN1CCc2cccc3c2[C@H]1Cc1ccc(O)c(O)c1-3</td>\n",
              "      <td>approved; investigational</td>\n",
              "      <td>267.3224</td>\n",
              "      <td>Apomorphine</td>\n",
              "      <td>...</td>\n",
              "      <td>0</td>\n",
              "      <td>0</td>\n",
              "      <td>0</td>\n",
              "      <td>0</td>\n",
              "      <td>0</td>\n",
              "      <td>0</td>\n",
              "      <td>0</td>\n",
              "      <td>0</td>\n",
              "      <td>0</td>\n",
              "      <td>0</td>\n",
              "    </tr>\n",
              "    <tr>\n",
              "      <th>45</th>\n",
              "      <td>NLBDETRVUYOIHQ-UHFFFAOYSA-N</td>\n",
              "      <td>[H]/N=C(\\N)c1ccc2cc(C(=O)Nc3ccc(CN)cc3)ccc2c1</td>\n",
              "      <td>Active</td>\n",
              "      <td>0.991272</td>\n",
              "      <td>DB02398</td>\n",
              "      <td>DB02398</td>\n",
              "      <td>[H]/N=C(\\N)c1ccc2cc(C(=O)Nc3ccc(CN)cc3)ccc2c1</td>\n",
              "      <td>experimental</td>\n",
              "      <td>318.3724</td>\n",
              "      <td>6-[N-(4-(Aminomethyl)Phenyl)Carbamyl]-2-Naphth...</td>\n",
              "      <td>...</td>\n",
              "      <td>1</td>\n",
              "      <td>0</td>\n",
              "      <td>1</td>\n",
              "      <td>0</td>\n",
              "      <td>1</td>\n",
              "      <td>0</td>\n",
              "      <td>0</td>\n",
              "      <td>0</td>\n",
              "      <td>0</td>\n",
              "      <td>3</td>\n",
              "    </tr>\n",
              "    <tr>\n",
              "      <th>...</th>\n",
              "      <td>...</td>\n",
              "      <td>...</td>\n",
              "      <td>...</td>\n",
              "      <td>...</td>\n",
              "      <td>...</td>\n",
              "      <td>...</td>\n",
              "      <td>...</td>\n",
              "      <td>...</td>\n",
              "      <td>...</td>\n",
              "      <td>...</td>\n",
              "      <td>...</td>\n",
              "      <td>...</td>\n",
              "      <td>...</td>\n",
              "      <td>...</td>\n",
              "      <td>...</td>\n",
              "      <td>...</td>\n",
              "      <td>...</td>\n",
              "      <td>...</td>\n",
              "      <td>...</td>\n",
              "      <td>...</td>\n",
              "      <td>...</td>\n",
              "    </tr>\n",
              "    <tr>\n",
              "      <th>8277</th>\n",
              "      <td>YOWNVPAUWYHLQX-UHFFFAOYSA-N</td>\n",
              "      <td>O=C(NC(=O)c1c(F)cccc1F)Nc1ccc(Cl)c(Oc2ncc(C(F)...</td>\n",
              "      <td>Active</td>\n",
              "      <td>0.919382</td>\n",
              "      <td>DB15583</td>\n",
              "      <td>DB15583</td>\n",
              "      <td>O=C(NC(=O)c1c(F)cccc1F)Nc1ccc(Cl)c(Oc2ncc(C(F)...</td>\n",
              "      <td>experimental</td>\n",
              "      <td>506.21</td>\n",
              "      <td>Fluazuron</td>\n",
              "      <td>...</td>\n",
              "      <td>1</td>\n",
              "      <td>0</td>\n",
              "      <td>1</td>\n",
              "      <td>0</td>\n",
              "      <td>1</td>\n",
              "      <td>1</td>\n",
              "      <td>0</td>\n",
              "      <td>0</td>\n",
              "      <td>0</td>\n",
              "      <td>4</td>\n",
              "    </tr>\n",
              "    <tr>\n",
              "      <th>8318</th>\n",
              "      <td>IHRNYHWGJUMPFJ-UHFFFAOYSA-N</td>\n",
              "      <td>COc1cc(-c2cc(=O)c3c(O)cc(O)c(CC=C(C)C)c3o2)ccc1O</td>\n",
              "      <td>Active</td>\n",
              "      <td>0.999504</td>\n",
              "      <td>DB17263</td>\n",
              "      <td>DB17263</td>\n",
              "      <td>COc1cc(-c2cc(=O)c3c(O)cc(O)c(CC=C(C)C)c3o2)ccc1O</td>\n",
              "      <td>investigational</td>\n",
              "      <td>368.385</td>\n",
              "      <td>Caflanone</td>\n",
              "      <td>...</td>\n",
              "      <td>1</td>\n",
              "      <td>0</td>\n",
              "      <td>0</td>\n",
              "      <td>0</td>\n",
              "      <td>0</td>\n",
              "      <td>0</td>\n",
              "      <td>0</td>\n",
              "      <td>0</td>\n",
              "      <td>0</td>\n",
              "      <td>1</td>\n",
              "    </tr>\n",
              "    <tr>\n",
              "      <th>8325</th>\n",
              "      <td>ZAWXOCUFQSQDJS-VIFPVBQESA-N</td>\n",
              "      <td>C[C@@H]1CC(=O)c2c(ccc3c2C(=O)c2cccc(O)c2C3=O)C1</td>\n",
              "      <td>Active</td>\n",
              "      <td>0.947559</td>\n",
              "      <td>DB15644</td>\n",
              "      <td>DB15644</td>\n",
              "      <td>C[C@@H]1CC(=O)c2c(ccc3c2C(=O)c2cccc(O)c2C3=O)C1</td>\n",
              "      <td>investigational</td>\n",
              "      <td>306.317</td>\n",
              "      <td>Ochromycinone</td>\n",
              "      <td>...</td>\n",
              "      <td>0</td>\n",
              "      <td>0</td>\n",
              "      <td>0</td>\n",
              "      <td>0</td>\n",
              "      <td>0</td>\n",
              "      <td>0</td>\n",
              "      <td>0</td>\n",
              "      <td>0</td>\n",
              "      <td>0</td>\n",
              "      <td>0</td>\n",
              "    </tr>\n",
              "    <tr>\n",
              "      <th>8327</th>\n",
              "      <td>KJXSIXMJHKAJOD-LSDHHAIUSA-N</td>\n",
              "      <td>O=C1c2c(O)cc(O)cc2O[C@H](c2cc(O)c(O)c(O)c2)[C@...</td>\n",
              "      <td>Active</td>\n",
              "      <td>0.756694</td>\n",
              "      <td>DB15645</td>\n",
              "      <td>DB15645</td>\n",
              "      <td>O=C1c2c(O)cc(O)cc2O[C@H](c2cc(O)c(O)c(O)c2)[C@...</td>\n",
              "      <td>investigational</td>\n",
              "      <td>320.251</td>\n",
              "      <td>Dihydromyricetin</td>\n",
              "      <td>...</td>\n",
              "      <td>1</td>\n",
              "      <td>0</td>\n",
              "      <td>0</td>\n",
              "      <td>0</td>\n",
              "      <td>0</td>\n",
              "      <td>0</td>\n",
              "      <td>0</td>\n",
              "      <td>1</td>\n",
              "      <td>0</td>\n",
              "      <td>2</td>\n",
              "    </tr>\n",
              "    <tr>\n",
              "      <th>8352</th>\n",
              "      <td>HZNVUJQVZSTENZ-UHFFFAOYSA-N</td>\n",
              "      <td>N#CC1=C(C#N)C(=O)C(Cl)=C(Cl)C1=O</td>\n",
              "      <td>Active</td>\n",
              "      <td>0.999984</td>\n",
              "      <td>DB15684</td>\n",
              "      <td>DB15684</td>\n",
              "      <td>N#CC1=C(C#N)C(=O)C(Cl)=C(Cl)C1=O</td>\n",
              "      <td>experimental</td>\n",
              "      <td>227.0</td>\n",
              "      <td>2,3-dichloro-5,6-dicyanobenzoquinone</td>\n",
              "      <td>...</td>\n",
              "      <td>1</td>\n",
              "      <td>0</td>\n",
              "      <td>0</td>\n",
              "      <td>0</td>\n",
              "      <td>0</td>\n",
              "      <td>1</td>\n",
              "      <td>0</td>\n",
              "      <td>0</td>\n",
              "      <td>0</td>\n",
              "      <td>2</td>\n",
              "    </tr>\n",
              "  </tbody>\n",
              "</table>\n",
              "<p>536 rows × 49 columns</p>\n",
              "</div>"
            ],
            "text/plain": [
              "                         inchikey  \\\n",
              "2     RKNHJBVBFHDXGR-MRUDJCSFSA-N   \n",
              "39    XUWPJKDMEZSVTP-UOSCCXBLSA-N   \n",
              "41    KBPHJBAIARWVSC-RGZFRNHPSA-N   \n",
              "42    VMWNQDUVQKEIOC-CYBMUJFWSA-N   \n",
              "45    NLBDETRVUYOIHQ-UHFFFAOYSA-N   \n",
              "...                           ...   \n",
              "8277  YOWNVPAUWYHLQX-UHFFFAOYSA-N   \n",
              "8318  IHRNYHWGJUMPFJ-UHFFFAOYSA-N   \n",
              "8325  ZAWXOCUFQSQDJS-VIFPVBQESA-N   \n",
              "8327  KJXSIXMJHKAJOD-LSDHHAIUSA-N   \n",
              "8352  HZNVUJQVZSTENZ-UHFFFAOYSA-N   \n",
              "\n",
              "                                       uncharged_smiles prediction  \\\n",
              "2     [H]/N=c1\\c2ncn([C@@H]3O[C@H](CO[P@](=O)(O)O[P@...     Active   \n",
              "39    C[C@@H]1O[C@H]2CC(=O)O[C@@H]2C2=C1C(=O)c1c(O)c...     Active   \n",
              "41    CC1=C[C@H](O)CC(C)(C)[C@H]1/C=C/C(C)=C/C=C/C(C...     Active   \n",
              "42                CN1CCc2cccc3c2[C@H]1Cc1ccc(O)c(O)c1-3     Active   \n",
              "45        [H]/N=C(\\N)c1ccc2cc(C(=O)Nc3ccc(CN)cc3)ccc2c1     Active   \n",
              "...                                                 ...        ...   \n",
              "8277  O=C(NC(=O)c1c(F)cccc1F)Nc1ccc(Cl)c(Oc2ncc(C(F)...     Active   \n",
              "8318   COc1cc(-c2cc(=O)c3c(O)cc(O)c(CC=C(C)C)c3o2)ccc1O     Active   \n",
              "8325    C[C@@H]1CC(=O)c2c(ccc3c2C(=O)c2cccc(O)c2C3=O)C1     Active   \n",
              "8327  O=C1c2c(O)cc(O)cc2O[C@H](c2cc(O)c(O)c(O)c2)[C@...     Active   \n",
              "8352                   N#CC1=C(C#N)C(=O)C(Cl)=C(Cl)C1=O     Active   \n",
              "\n",
              "      active_probability database_id_x database_id_y  \\\n",
              "2               0.296084       DB01661       DB01661   \n",
              "39              0.994655       DB01668       DB01668   \n",
              "41              0.954262       DB00137       DB00137   \n",
              "42              0.999998       DB00714       DB00714   \n",
              "45              0.991272       DB02398       DB02398   \n",
              "...                  ...           ...           ...   \n",
              "8277            0.919382       DB15583       DB15583   \n",
              "8318            0.999504       DB17263       DB17263   \n",
              "8325            0.947559       DB15644       DB15644   \n",
              "8327            0.756694       DB15645       DB15645   \n",
              "8352            0.999984       DB15684       DB15684   \n",
              "\n",
              "                                                 smiles  \\\n",
              "2     [H]/N=c1\\c2ncn([C@@H]3O[C@H](CO[P@](=O)(O)O[P@...   \n",
              "39    C[C@@H]1O[C@H]2CC(=O)O[C@@H]2C2=C1C(=O)c1c(O)c...   \n",
              "41    CC1=C[C@H](O)CC(C)(C)[C@H]1/C=C/C(C)=C/C=C/C(C...   \n",
              "42                CN1CCc2cccc3c2[C@H]1Cc1ccc(O)c(O)c1-3   \n",
              "45        [H]/N=C(\\N)c1ccc2cc(C(=O)Nc3ccc(CN)cc3)ccc2c1   \n",
              "...                                                 ...   \n",
              "8277  O=C(NC(=O)c1c(F)cccc1F)Nc1ccc(Cl)c(Oc2ncc(C(F)...   \n",
              "8318   COc1cc(-c2cc(=O)c3c(O)cc(O)c(CC=C(C)C)c3o2)ccc1O   \n",
              "8325    C[C@@H]1CC(=O)c2c(ccc3c2C(=O)c2cccc(O)c2C3=O)C1   \n",
              "8327  O=C1c2c(O)cc(O)cc2O[C@H](c2cc(O)c(O)c(O)c2)[C@...   \n",
              "8352                   N#CC1=C(C#N)C(=O)C(Cl)=C(Cl)C1=O   \n",
              "\n",
              "                                   drug_groups molecular_weight  \\\n",
              "2                                 experimental         719.2755   \n",
              "39                                experimental         300.2629   \n",
              "41    approved; investigational; nutraceutical          568.886   \n",
              "42                   approved; investigational         267.3224   \n",
              "45                                experimental         318.3724   \n",
              "...                                        ...              ...   \n",
              "8277                              experimental           506.21   \n",
              "8318                           investigational          368.385   \n",
              "8325                           investigational          306.317   \n",
              "8327                           investigational          320.251   \n",
              "8352                              experimental            227.0   \n",
              "\n",
              "                                           generic_name  ... psa_flag mw_flag  \\\n",
              "2                           1-(5-phospho-D-ribosyl)-ATP  ...        1       0   \n",
              "39                                         Nanaomycin D  ...        1       0   \n",
              "41                                               Lutein  ...        0       0   \n",
              "42                                          Apomorphine  ...        0       0   \n",
              "45    6-[N-(4-(Aminomethyl)Phenyl)Carbamyl]-2-Naphth...  ...        1       0   \n",
              "...                                                 ...  ...      ...     ...   \n",
              "8277                                          Fluazuron  ...        1       0   \n",
              "8318                                          Caflanone  ...        1       0   \n",
              "8325                                      Ochromycinone  ...        0       0   \n",
              "8327                                   Dihydromyricetin  ...        1       0   \n",
              "8352               2,3-dichloro-5,6-dicyanobenzoquinone  ...        1       0   \n",
              "\n",
              "     cx_basic_flag cx_acidic_flag logd_flag logp_flag  hbd_flag  hba_flag  \\\n",
              "2                0              0         1         1         1         1   \n",
              "39               0              0         1         1         0         0   \n",
              "41               0              0         1         1         0         0   \n",
              "42               0              0         0         0         0         0   \n",
              "45               1              0         1         0         0         0   \n",
              "...            ...            ...       ...       ...       ...       ...   \n",
              "8277             1              0         1         1         0         0   \n",
              "8318             0              0         0         0         0         0   \n",
              "8325             0              0         0         0         0         0   \n",
              "8327             0              0         0         0         0         1   \n",
              "8352             0              0         0         1         0         0   \n",
              "\n",
              "      rotation_flag  total_flags  \n",
              "2                 1            6  \n",
              "39                0            3  \n",
              "41                1            3  \n",
              "42                0            0  \n",
              "45                0            3  \n",
              "...             ...          ...  \n",
              "8277              0            4  \n",
              "8318              0            1  \n",
              "8325              0            0  \n",
              "8327              0            2  \n",
              "8352              0            2  \n",
              "\n",
              "[536 rows x 49 columns]"
            ]
          },
          "execution_count": 172,
          "metadata": {},
          "output_type": "execute_result"
        }
      ],
      "source": [
        "preds_labeled[preds_labeled['prediction']=='Active']"
      ]
    },
    {
      "cell_type": "code",
      "execution_count": 173,
      "id": "dedadcb3",
      "metadata": {},
      "outputs": [
        {
          "data": {
            "image/png": "[encoded data removed]",
            "text/plain": [
              "<Figure size 640x480 with 1 Axes>"
            ]
          },
          "metadata": {},
          "output_type": "display_data"
        }
      ],
      "source": [
        "preds_with_admet[preds_with_admet['prediction']=='Active']['BBB'].hist(bins=20, color='red')\n",
        "plt.xticks(np.arange(0, 1.1, .1))\n",
        "plt.title(f\"APP Nominations - Distribution of BBB Permeability Predictions\", size=11)\n",
        "plt.ylabel(\"Compound Count\", size=10)\n",
        "plt.xlabel(\"Predicted ADMET Score\", size=10)\n",
        "# plt.savefig(\"Tau_BBB_Predictions\", dpi=400)\n",
        "plt.show()"
      ]
    },
    {
      "cell_type": "code",
      "execution_count": 174,
      "id": "ba82daf9",
      "metadata": {},
      "outputs": [],
      "source": [
        "preds_with_admet.to_excel(f\"{target}_predictions_flagged_admet_11Feb2024.xlsx\", index=False)"
      ]
    },
    {
      "cell_type": "code",
      "execution_count": null,
      "id": "83b41bd8",
      "metadata": {},
      "outputs": [],
      "source": [
        "### CNS Drug ADMET Properties"
      ]
    },
    {
      "cell_type": "code",
      "execution_count": 127,
      "id": "8c8e80b5",
      "metadata": {},
      "outputs": [
        {
          "data": {
            "text/plain": [
              "Text(0.5, 0, 'Predicted ADMET Score')"
            ]
          },
          "execution_count": 127,
          "metadata": {},
          "output_type": "execute_result"
        },
        {
          "data": {
            "image/png": "[encoded data removed]",
            "text/plain": [
              "<Figure size 640x480 with 1 Axes>"
            ]
          },
          "metadata": {},
          "output_type": "display_data"
        }
      ],
      "source": [
        "cns_admet=pd.read_csv(\"../final_outputs/partial_data/ADMET_Lab2_CNS_drugs.csv\")\n",
        "cns_admet['BBB'].hist(bins=20)\n",
        "plt.title(f\"CNS Drug Positive Controls - Distribution of BBB Permeability Predictions\", size=11)\n",
        "plt.ylabel(\"Compound Count\", size=10)\n",
        "plt.xlabel(\"Predicted ADMET Score\", size=10)"
      ]
    },
    {
      "cell_type": "code",
      "execution_count": null,
      "id": "a2c2d55c",
      "metadata": {},
      "outputs": [],
      "source": [
        "np.arange(0, 1.1, .1)"
      ]
    },
    {
      "cell_type": "code",
      "execution_count": null,
      "id": "aef6c91b",
      "metadata": {},
      "outputs": [],
      "source": []
    },
    {
      "cell_type": "markdown",
      "id": "81e4929f",
      "metadata": {},
      "source": [
        "preds_labeled"
      ]
    },
    {
      "cell_type": "markdown",
      "id": "10cc9c65",
      "metadata": {},
      "source": [
        "### Determine Nominations Overlap Between Targets"
      ]
    },
    {
      "cell_type": "code",
      "execution_count": null,
      "id": "3315cec2",
      "metadata": {},
      "outputs": [],
      "source": [
        "app_targets=pd.read_excel(\"/home/paperspace/Desktop/DL_Project/ipynb_files/app_detailed_nominations.xlsx\")\n",
        "app_preds=app_targets[['uncharged_smiles', 'prediction', 'active_probability']]\n",
        "app_preds.rename(columns={'prediction': 'app_prediction',\n",
        "                            'active_probability': 'app_probability'}, inplace=True)\n",
        "\n",
        "app_metadata=app_targets.drop(columns=['prediction', 'active_probability'])"
      ]
    },
    {
      "cell_type": "code",
      "execution_count": null,
      "id": "c54659b8",
      "metadata": {},
      "outputs": [],
      "source": [
        "tau_targets=pd.read_excel(\"/home/paperspace/Desktop/DL_Project/ipynb_files/tau_detailed_nominations.xlsx\")\n",
        "\n",
        "tau_preds=tau_targets[['uncharged_smiles', 'prediction', 'active_probability']]\n",
        "tau_preds.rename(columns={'prediction': 'tau_prediction',\n",
        "                            'active_probability': 'tau_probability'}, inplace=True)\n",
        "\n",
        "tau_metadata=tau_targets.drop(columns=['prediction', 'active_probability'])"
      ]
    },
    {
      "cell_type": "code",
      "execution_count": null,
      "id": "d951fc81",
      "metadata": {},
      "outputs": [],
      "source": [
        "combined_preds=tau_preds.merge(app_preds, how='inner', on='uncharged_smiles')\n",
        "combined_preds['active_both']=(combined_preds['tau_prediction']=='Active') & (combined_preds['app_prediction']=='Active')"
      ]
    },
    {
      "cell_type": "code",
      "execution_count": null,
      "id": "535b9ddb",
      "metadata": {},
      "outputs": [],
      "source": [
        "combined_preds=combined_preds.drop_duplicates(subset='uncharged_smiles')\n",
        "app_metadata=app_metadata.drop_duplicates(subset='uncharged_smiles')"
      ]
    },
    {
      "cell_type": "code",
      "execution_count": null,
      "id": "22078dcc",
      "metadata": {},
      "outputs": [],
      "source": [
        "full_preds=app_metadata.merge(combined_preds, how='left', on='uncharged_smiles')\n",
        "full_preds"
      ]
    },
    {
      "cell_type": "code",
      "execution_count": null,
      "id": "8a677538",
      "metadata": {},
      "outputs": [],
      "source": [
        "full_preds[full_preds['generic_name'].str.contains(\"ABX-464\")]"
      ]
    },
    {
      "cell_type": "code",
      "execution_count": null,
      "id": "4bc12c25",
      "metadata": {},
      "outputs": [],
      "source": [
        "# full_preds.to_excel(\"app_tau_predictions_combined_active_inactive.xlsx\", index=False)"
      ]
    },
    {
      "cell_type": "code",
      "execution_count": null,
      "id": "39fb8039",
      "metadata": {},
      "outputs": [],
      "source": [
        "def filter_actives(df: pd.DataFrame, \n",
        "                    target: str, \n",
        "                    flag_threshold=3, \n",
        "                    percentile=0.9, \n",
        "                    target_threshold=999,\n",
        "                    fda_filter=False) -> pd.DataFrame:\n",
        "\n",
        "    filtered=df.copy()\n",
        "    filtered=filtered[filtered[f\"{target}_probability\"] > percentile]\n",
        "    filtered=filtered[filtered['total_flags']<=flag_threshold]\n",
        "    filtered=filtered[filtered['Targets']<target_threshold]\n",
        "    \n",
        "    if fda_filter:\n",
        "        filtered['drug_groups']=filtered['drug_groups'].str.replace(\"vet_approved\", \"vet_appro\")\n",
        "        filtered=filtered[(filtered['drug_groups'].str.contains(\"approved\")) &\\\n",
        "                            (~filtered['drug_groups'].str.contains(\"withdrawn\"))]\n",
        "\n",
        "    filtered=filtered.sort_values(by=[f\"{target}_probability\", 'total_flags'], ascending=False)\n",
        "    filtered.reset_index(drop=True, inplace=True)\n",
        "    \n",
        "    return filtered"
      ]
    },
    {
      "cell_type": "markdown",
      "id": "14e45443",
      "metadata": {},
      "source": [
        "### Filter Down Predictions on Different Parameters"
      ]
    },
    {
      "cell_type": "code",
      "execution_count": null,
      "id": "5b65ce0a",
      "metadata": {},
      "outputs": [],
      "source": [
        "# tau_filtered=filter_actives(full_preds, 'tau', fda_filter=True)\n",
        "app_filtered=filter_actives(full_preds, 'app', fda_filter=False)"
      ]
    },
    {
      "cell_type": "code",
      "execution_count": null,
      "id": "664f4c6f",
      "metadata": {},
      "outputs": [],
      "source": [
        "# tau_filtered['drug_groups'].value_counts()\n",
        "app_filtered"
      ]
    },
    {
      "cell_type": "code",
      "execution_count": null,
      "id": "232afa32",
      "metadata": {},
      "outputs": [],
      "source": [
        "## pick 2 that are FDA approved\n",
        "## two experimental or investigative"
      ]
    },
    {
      "cell_type": "code",
      "execution_count": null,
      "metadata": {},
      "outputs": [],
      "source": [
        "## ABX-464 interesting\n",
        "## Ticlatone interesting\n",
        "## Triclocarban is bad - banned hormone stuff\n",
        "## Anethole trithione interesting\n",
        "## Clofazimine is a highly lipophilic antimicrobial riminophenazine dye used \n",
        "# in combination with other agents, such as [dapsone], for the treatment of leprosy.\n",
        "# Apomorphine is an aporphine alkaloid. It has a role as an alpha-adrenergic drug, a \n",
        "# serotonergic drug, an antidyskinesia agent, a dopamine agonist, an antiparkinson drug \n",
        "# and an emetic. It derives from a hydride of an aporphine.\n",
        "# Progabide is an analog and prodrug of gamma-aminobutyric acid. It is commonly used in\n",
        "#  the treatment of epilepsy. It has agonistic activity for both the GABAA and GABAB receptors. \n",
        "# In clinical trials, progabide has been investigated for Parkinson's disease, schizophrenia, \n",
        "# clinical depression and anxiety disorder; its therapeutic effectiveness in these conditions\n",
        "#  is not fully elucidated."
      ]
    },
    {
      "cell_type": "markdown",
      "id": "eac525a7",
      "metadata": {},
      "source": [
        "### Where do Drugs in general reside in chemical space?"
      ]
    },
    {
      "cell_type": "markdown",
      "id": "dee1ce29",
      "metadata": {},
      "source": [
        "### merge full preds to drugbank on database_id. Then can have all metadata but not remove the other compounds thatgot removed somewhere alongt he line."
      ]
    },
    {
      "cell_type": "code",
      "execution_count": null,
      "id": "745ba2c4",
      "metadata": {},
      "outputs": [],
      "source": [
        "all_preds=pd.read_excel(\"app_tau_predictions_combined_active_inactive.xlsx\")\n",
        "drugbank=load_drugbank()"
      ]
    },
    {
      "cell_type": "code",
      "execution_count": null,
      "id": "e360190e",
      "metadata": {},
      "outputs": [],
      "source": [
        "drugbank['canonical_smiles'], drugbank['cleaned_smiles'], drugbank['cleaned_charge'] = zip(*drugbank['smiles'].apply(lambda x: strip_salts_neutralize(x)))"
      ]
    },
    {
      "cell_type": "code",
      "execution_count": null,
      "id": "f5600380",
      "metadata": {},
      "outputs": [],
      "source": [
        "drugbank['smiles_equal']=drugbank['canonical_smiles']==drugbank['cleaned_smiles']\n",
        "display(pd.DataFrame(drugbank['smiles_equal'].value_counts()))"
      ]
    },
    {
      "cell_type": "markdown",
      "id": "96767d1f",
      "metadata": {},
      "source": [
        "### Generate Morgan FPs on Drugbank Cleaned SMILES"
      ]
    },
    {
      "cell_type": "code",
      "execution_count": null,
      "id": "d2770bed",
      "metadata": {},
      "outputs": [],
      "source": [
        "# generate morgan fingerprint 2048 length vector - multiprocessing\n",
        "\n",
        "def generate_morgan_fp(lst, compound_data):\n",
        "\n",
        "    # compound_data = list -> index 0 = inchi, index 1 = isomeric smile\n",
        "    mol = Chem.MolFromSmiles(compound_data[1])\n",
        "    fp = AllChem.GetMorganFingerprintAsBitVect(mol, useChirality=True, radius=2, nBits = 2048)\n",
        "    compound_data.append(fp.ToBitString()) # [inchi, iso_smile, fp]\n",
        "    lst.append(compound_data) # list of lists\n",
        "    pbar.update(1)\n",
        "\n",
        "\n",
        "fp_function_columns = drugbank[['inchikey', 'cleaned_smiles']].values.tolist()\n",
        "\n",
        "print(\"First two elements of list:\")\n",
        "fp_function_columns[:2]"
      ]
    },
    {
      "cell_type": "code",
      "execution_count": null,
      "id": "c19de89a",
      "metadata": {},
      "outputs": [],
      "source": [
        "# parallelize generation\n",
        "if __name__ == '__main__':\n",
        "\n",
        "    pbar = tqdm(total=len(drugbank)/8)\n",
        "    dfs_list = Manager().list()\n",
        "    pool = Pool(processes=8)\n",
        "    res = pool.map_async(partial(generate_morgan_fp, dfs_list), fp_function_columns)\n",
        "    res.wait()\n",
        "    pbar.close()"
      ]
    },
    {
      "cell_type": "code",
      "execution_count": null,
      "id": "cdb1bdfc",
      "metadata": {},
      "outputs": [],
      "source": [
        "fp_df = pd.DataFrame(list(dfs_list), columns=['inchikey', 'cleaned_smiles', 'morgan_fp'])  # the final result\n",
        "\n",
        "drugbank_fps=drugbank.merge(fp_df, how='left', on=['inchikey', 'cleaned_smiles'])\n",
        "drugbank_fps.head(2)"
      ]
    },
    {
      "cell_type": "code",
      "execution_count": null,
      "id": "ceda6c3a",
      "metadata": {},
      "outputs": [],
      "source": [
        "## 5 minutes\n",
        "def generate_int_fp(lst, data):\n",
        "\n",
        "    lst.append(list(map(int, data)))\n",
        "\n",
        "morgan_df_vals = drugbank_fps['morgan_fp'].values.tolist()\n",
        "\n",
        "if __name__ == '__main__':\n",
        "\n",
        "    pbar = tqdm(total=len(drugbank)/8)\n",
        "    dfs_list = Manager().list()\n",
        "    pool = Pool(processes=8)\n",
        "    res = pool.map_async(partial(generate_int_fp, dfs_list), morgan_df_vals)\n",
        "    res.wait()\n",
        "    pbar.close()\n",
        "    fp_df = pd.DataFrame(list(dfs_list))\n",
        "\n",
        "# fp_df.head()"
      ]
    },
    {
      "cell_type": "code",
      "execution_count": null,
      "id": "a03b2032",
      "metadata": {},
      "outputs": [],
      "source": [
        "\n"
      ]
    },
    {
      "cell_type": "code",
      "execution_count": null,
      "id": "2ec13d9e",
      "metadata": {},
      "outputs": [],
      "source": [
        "\n",
        "with open('pca_model_2023Ded22.pkl', 'rb') as f:\n",
        "    pretrained_pca = pickle.load(f)"
      ]
    },
    {
      "cell_type": "code",
      "execution_count": null,
      "id": "54228adc",
      "metadata": {},
      "outputs": [],
      "source": [
        "### reduce the fps to 3 dimensions\n",
        "reduced_fps=pretrained_pca.transform(fp_df)"
      ]
    },
    {
      "cell_type": "code",
      "execution_count": null,
      "id": "8830385d",
      "metadata": {},
      "outputs": [],
      "source": [
        "drugbank_fps['first_component_pca'] = [i[0] for i in reduced_fps]\n",
        "drugbank_fps['second_component_pca'] = [i[1] for i in reduced_fps]\n",
        "drugbank_fps['third_component_pca'] = [i[2] for i in reduced_fps]"
      ]
    },
    {
      "cell_type": "code",
      "execution_count": null,
      "id": "0730c34d",
      "metadata": {},
      "outputs": [],
      "source": [
        "import matplotlib.pyplot as plt"
      ]
    },
    {
      "cell_type": "code",
      "execution_count": null,
      "id": "5ed4bd4a",
      "metadata": {},
      "outputs": [],
      "source": [
        "drugbank_fps['safety_concern']=\"No\"\n",
        "drugbank_fps['safety_concern']=np.where((drugbank_fps['drug_groups'].str.contains(\"illic\")) | (drugbank_fps['drug_groups'].str.contains(\"withdr\")),\n",
        "                            \"Yes\",\n",
        "                            \"No\")"
      ]
    },
    {
      "cell_type": "code",
      "execution_count": null,
      "id": "62a5cc35",
      "metadata": {},
      "outputs": [],
      "source": [
        "drugbank_fps['safety_concern'].value_counts()"
      ]
    },
    {
      "cell_type": "code",
      "execution_count": null,
      "id": "9b48848b",
      "metadata": {},
      "outputs": [],
      "source": [
        "import seaborn as sns\n",
        "sns.scatterplot(data=drugbank_fps, x='first_component_pca', y='second_component_pca', hue='safety_concern')\n",
        "sns.scatterplot(data=drugbank_fps[drugbank_fps['safety_concern']==\"Yes\"], x='first_component_pca', y='second_component_pca')\n",
        "plt.legend(title='Withdrawn or Illicit')\n",
        "plt.title(\"Drugbank Compounds Prediction Set\")\n",
        "plt.xlabel(\"1st Principal Component\")\n",
        "plt.ylabel(\"2nd Principal Component\")\n",
        "plt.show()"
      ]
    },
    {
      "cell_type": "markdown",
      "id": "b2e59b60",
      "metadata": {},
      "source": [
        "### Check Which Drugs Are CNS Drugs, were they nominated? were they filtered by my criteria?"
      ]
    },
    {
      "cell_type": "code",
      "execution_count": null,
      "id": "d6444f16",
      "metadata": {},
      "outputs": [],
      "source": [
        "drugbank_fps"
      ]
    },
    {
      "cell_type": "code",
      "execution_count": null,
      "id": "1944cecf",
      "metadata": {},
      "outputs": [],
      "source": []
    },
    {
      "cell_type": "markdown",
      "id": "7924a0d4",
      "metadata": {},
      "source": [
        "### How Many Different Scaffolds Did Drugbank Make up? Any patterns in scaffolds it likes?"
      ]
    },
    {
      "cell_type": "markdown",
      "id": "b9638f71",
      "metadata": {},
      "source": []
    }
  ],
  "metadata": {
    "colab": {
      "machine_shape": "hm",
      "provenance": []
    },
    "gpuClass": "standard",
    "kernelspec": {
      "display_name": "Python 3 (ipykernel)",
      "language": "python",
      "name": "python3"
    },
    "language_info": {
      "codemirror_mode": {
        "name": "ipython",
        "version": 3
      },
      "file_extension": ".py",
      "mimetype": "text/x-python",
      "name": "python",
      "nbconvert_exporter": "python",
      "pygments_lexer": "ipython3",
      "version": "3.9.16"
    }
  },
  "nbformat": 4,
  "nbformat_minor": 5
}
